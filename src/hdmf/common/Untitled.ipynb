{
 "cells": [
  {
   "cell_type": "code",
   "execution_count": 1,
   "id": "technological-influence",
   "metadata": {},
   "outputs": [],
   "source": [
    "from hdmf.common import ExternalResources\n",
    "from hdmf.common import DynamicTable\n",
    "from hdmf import Data\n",
    "import numpy as np"
   ]
  },
  {
   "cell_type": "code",
   "execution_count": 2,
   "id": "planned-syndication",
   "metadata": {},
   "outputs": [
    {
     "name": "stderr",
     "output_type": "stream",
     "text": [
      "/Users/mavaylon/Research/hdmf_testing/hdmf_21/hdmf/src/hdmf/container.py:181: UserWarning: ExternalResources is experimental -- it may be removed in the future and is not guaranteed to maintain backward compatibility\n",
      "  warn(_exp_warn_msg(cls))\n"
     ]
    },
    {
     "data": {
      "text/plain": [
       "(<hdmf.common.resources.Key at 0x7faa5ef9e5d0>,\n",
       " <hdmf.common.resources.Resource at 0x7faa5ef9e550>,\n",
       " <hdmf.common.resources.Entity at 0x7faa5ef9e490>)"
      ]
     },
     "execution_count": 2,
     "metadata": {},
     "output_type": "execute_result"
    }
   ],
   "source": [
    "er = ExternalResources(name='example')\n",
    "data = Data(name='data_name', data=np.array([('Mus musculus', 9, 81.0), ('Homo sapien', 3, 27.0)],\n",
    "                    dtype=[('species', 'U14'), ('age', 'i4'), ('weight', 'f4')]))\n",
    "er.add_ref(container=data, field='data/species', key='Mus musculus', resource_name='NCBI_Taxonomy',\n",
    "           resource_uri='https://www.ncbi.nlm.nih.gov/taxonomy',\n",
    "           entity_id='NCBI:txid10090',\n",
    "           entity_uri='https://www.ncbi.nlm.nih.gov/Taxonomy/Browser/wwwtax.cgi?id=10090')\n",
    "\n",
    "er.add_ref(container=data, field='data/species', key='Homo sapiens',resource_name='NCBI_Taxonomy',\n",
    "           resource_uri='https://www.ncbi.nlm.nih.gov/taxonomy',\n",
    "           entity_id='NCBI:txid9606',\n",
    "           entity_uri='https://www.ncbi.nlm.nih.gov/Taxonomy/Browser/wwwtax.cgi?id=9606')\n"
   ]
  },
  {
   "cell_type": "code",
   "execution_count": 3,
   "id": "598ae972",
   "metadata": {},
   "outputs": [
    {
     "data": {
      "text/plain": [
       "(<hdmf.common.resources.Key at 0x7faa5ef8f850>,\n",
       " <hdmf.common.resources.Resource at 0x7faa5ef9e550>,\n",
       " <hdmf.common.resources.Entity at 0x7faa5ef8f810>)"
      ]
     },
     "execution_count": 3,
     "metadata": {},
     "output_type": "execute_result"
    }
   ],
   "source": [
    "er.add_ref(container=data, field='data/species', key=er.get_key('Mus musculus'), resource_name='NCBI_Taxonomy',\n",
    "           resource_uri='https://www.ncbi.nlm.nih.gov/taxonomy',\n",
    "           entity_id='NCBI:fdsaf',\n",
    "           entity_uri='hfdttps://www.ncbi.nlm.nih.gov/Taxonomy/Browser/wwwtax.cgi?id=10090')"
   ]
  },
  {
   "cell_type": "code",
   "execution_count": 4,
   "id": "split-bicycle",
   "metadata": {},
   "outputs": [
    {
     "data": {
      "text/plain": [
       "(<hdmf.common.resources.Key at 0x7faa5ef9ebd0>,\n",
       " <hdmf.common.resources.Resource at 0x7faa5ef9ed50>,\n",
       " <hdmf.common.resources.Entity at 0x7faa5ef9eb90>)"
      ]
     },
     "execution_count": 4,
     "metadata": {},
     "output_type": "execute_result"
    }
   ],
   "source": [
    "\n",
    "genotypes = DynamicTable(name='genotypes', description='My genotypes')\n",
    "genotypes.add_column(name='genotype_name', description=\"Name of genotypes\")\n",
    "genotypes.add_row(id=0, genotype_name='Rorb')\n",
    "er.add_ref(container=genotypes, field='genotype_name', key='Mus musculus', resource_name='MGI Ontology',\n",
    "           resource_uri='http://www.informatics.jax.org/', entity_id='MGI:1346434',\n",
    "           entity_uri=\"http://www.informatics.jax.org/probe/key/804614\")"
   ]
  },
  {
   "cell_type": "code",
   "execution_count": 5,
   "id": "f4f27734",
   "metadata": {},
   "outputs": [
    {
     "data": {
      "text/html": [
       "<div>\n",
       "<style scoped>\n",
       "    .dataframe tbody tr th:only-of-type {\n",
       "        vertical-align: middle;\n",
       "    }\n",
       "\n",
       "    .dataframe tbody tr th {\n",
       "        vertical-align: top;\n",
       "    }\n",
       "\n",
       "    .dataframe thead th {\n",
       "        text-align: right;\n",
       "    }\n",
       "</style>\n",
       "<table border=\"1\" class=\"dataframe\">\n",
       "  <thead>\n",
       "    <tr style=\"text-align: right;\">\n",
       "      <th></th>\n",
       "      <th>objects_idx</th>\n",
       "      <th>keys_idx</th>\n",
       "    </tr>\n",
       "  </thead>\n",
       "  <tbody>\n",
       "    <tr>\n",
       "      <th>0</th>\n",
       "      <td>0</td>\n",
       "      <td>0</td>\n",
       "    </tr>\n",
       "    <tr>\n",
       "      <th>1</th>\n",
       "      <td>0</td>\n",
       "      <td>1</td>\n",
       "    </tr>\n",
       "    <tr>\n",
       "      <th>2</th>\n",
       "      <td>1</td>\n",
       "      <td>2</td>\n",
       "    </tr>\n",
       "  </tbody>\n",
       "</table>\n",
       "</div>"
      ],
      "text/plain": [
       "   objects_idx  keys_idx\n",
       "0            0         0\n",
       "1            0         1\n",
       "2            1         2"
      ]
     },
     "execution_count": 5,
     "metadata": {},
     "output_type": "execute_result"
    }
   ],
   "source": [
    "er.object_keys.to_dataframe()"
   ]
  },
  {
   "cell_type": "code",
   "execution_count": null,
   "id": "cdd7d6a1",
   "metadata": {},
   "outputs": [],
   "source": [
    "er.get_key('Mus musculus')[0].idx"
   ]
  },
  {
   "cell_type": "code",
   "execution_count": null,
   "id": "b954e06f",
   "metadata": {},
   "outputs": [],
   "source": []
  },
  {
   "cell_type": "code",
   "execution_count": 6,
   "id": "cb467e49",
   "metadata": {},
   "outputs": [
    {
     "name": "stderr",
     "output_type": "stream",
     "text": [
      "/Users/mavaylon/Research/hdmf_testing/hdmf_21/hdmf/src/hdmf/container.py:181: UserWarning: ExternalResources is experimental -- it may be removed in the future and is not guaranteed to maintain backward compatibility\n",
      "  warn(_exp_warn_msg(cls))\n"
     ]
    },
    {
     "data": {
      "text/html": [
       "<div>\n",
       "<style scoped>\n",
       "    .dataframe tbody tr th:only-of-type {\n",
       "        vertical-align: middle;\n",
       "    }\n",
       "\n",
       "    .dataframe tbody tr th {\n",
       "        vertical-align: top;\n",
       "    }\n",
       "\n",
       "    .dataframe thead th {\n",
       "        text-align: right;\n",
       "    }\n",
       "</style>\n",
       "<table border=\"1\" class=\"dataframe\">\n",
       "  <thead>\n",
       "    <tr style=\"text-align: right;\">\n",
       "      <th></th>\n",
       "      <th>keys_idx</th>\n",
       "      <th>resource_idx</th>\n",
       "      <th>enitity_id</th>\n",
       "      <th>entity_uri</th>\n",
       "    </tr>\n",
       "  </thead>\n",
       "  <tbody>\n",
       "    <tr>\n",
       "      <th>0</th>\n",
       "      <td>0</td>\n",
       "      <td>0</td>\n",
       "      <td>NCBI:txid10090</td>\n",
       "      <td>https://www.ncbi.nlm.nih.gov/Taxonomy/Browser/...</td>\n",
       "    </tr>\n",
       "  </tbody>\n",
       "</table>\n",
       "</div>"
      ],
      "text/plain": [
       "   keys_idx  resource_idx      enitity_id  \\\n",
       "0         0             0  NCBI:txid10090   \n",
       "\n",
       "                                          entity_uri  \n",
       "0  https://www.ncbi.nlm.nih.gov/Taxonomy/Browser/...  "
      ]
     },
     "execution_count": 6,
     "metadata": {},
     "output_type": "execute_result"
    }
   ],
   "source": [
    "er = ExternalResources('terms')\n",
    "data = Data(name='data_name', data=np.array([('Mus musculus', 9, 81.0), ('Homo sapien', 3, 27.0)],\n",
    "            dtype=[('species', 'U14'), ('age', 'i4'), ('weight', 'f4')]))\n",
    "\n",
    "er.add_ref(container=data, field='data/species', key='Mus musculus', resource_name='NCBI_Taxonomy',\n",
    "           resource_uri='https://www.ncbi.nlm.nih.gov/taxonomy',\n",
    "           entity_id='NCBI:txid10090',\n",
    "           entity_uri='https://www.ncbi.nlm.nih.gov/Taxonomy/Browser/wwwtax.cgi?id=10090')\n",
    "er.get_object_resources(data, 'data/species')"
   ]
  },
  {
   "cell_type": "code",
   "execution_count": null,
   "id": "e1b091a3",
   "metadata": {},
   "outputs": [],
   "source": []
  },
  {
   "cell_type": "code",
   "execution_count": null,
   "id": "3a845819",
   "metadata": {},
   "outputs": [],
   "source": []
  },
  {
   "cell_type": "code",
   "execution_count": null,
   "id": "tested-algeria",
   "metadata": {},
   "outputs": [],
   "source": [
    "# The get_key method will return the key object of the unique (key, container, field).\n",
    "key_object = er.get_key(key_name='Rorb', container=genotypes, field='genotype_name')\n",
    "\n",
    "###############################################################################\n",
    "# Using the add_ref method with a key_object\n",
    "# ------------------------------------------------------\n",
    "# Sometimes you want to reference a specific key that already exists when adding\n",
    "# new ontology data into ``ExternalResources``.\n",
    "\n",
    "er.add_ref(container=genotypes, field='genotype_name', key=key_object, resource_name='Ensembl',\n",
    "           resource_uri='https://uswest.ensembl.org/index.html', entity_id='ENSG00000198963',\n",
    "           entity_uri='https://uswest.ensembl.org/Homo_sapiens/Gene/Summary?db=core;g=ENSG00000198963')\n"
   ]
  },
  {
   "cell_type": "code",
   "execution_count": null,
   "id": "upset-shell",
   "metadata": {},
   "outputs": [],
   "source": [
    "er.get_keys()"
   ]
  },
  {
   "cell_type": "code",
   "execution_count": null,
   "id": "forced-implementation",
   "metadata": {},
   "outputs": [],
   "source": [
    "er.object_keys.to_dataframe()"
   ]
  },
  {
   "cell_type": "code",
   "execution_count": null,
   "id": "arbitrary-earth",
   "metadata": {},
   "outputs": [],
   "source": [
    "er.objects.to_dataframe()"
   ]
  },
  {
   "cell_type": "code",
   "execution_count": null,
   "id": "coated-renaissance",
   "metadata": {},
   "outputs": [],
   "source": [
    "object_field = er._check_object_field('f0c66e82-309e-4a45-bfd6-577a92340960', 'genotype_name')\n",
    "keys=[]\n",
    "for row_idx in er.object_keys.which(objects_idx=object_field.idx):\n",
    "    key_idx = er.object_keys['keys_idx', row_idx]\n",
    "    keys.append(key_idx)"
   ]
  },
  {
   "cell_type": "code",
   "execution_count": null,
   "id": "attached-explorer",
   "metadata": {},
   "outputs": [],
   "source": [
    "keys"
   ]
  },
  {
   "cell_type": "code",
   "execution_count": null,
   "id": "hungarian-navigation",
   "metadata": {},
   "outputs": [],
   "source": [
    "er.entities.to_dataframe()"
   ]
  },
  {
   "cell_type": "code",
   "execution_count": null,
   "id": "treated-raising",
   "metadata": {},
   "outputs": [],
   "source": [
    "k=er.entities.__getitem__(2)\n",
    "k"
   ]
  },
  {
   "cell_type": "code",
   "execution_count": null,
   "id": "widespread-ending",
   "metadata": {},
   "outputs": [],
   "source": [
    "import pandas as pd"
   ]
  },
  {
   "cell_type": "code",
   "execution_count": null,
   "id": "handled-matrix",
   "metadata": {},
   "outputs": [],
   "source": [
    "pd.DataFrame([k], columns=['keys_idx', 'resource_idx', 'enitity_id', 'entity_uri'])"
   ]
  },
  {
   "cell_type": "code",
   "execution_count": null,
   "id": "crazy-independence",
   "metadata": {},
   "outputs": [],
   "source": [
    "er.get_entity_resource_object(container='88aae6f1-a5cc-4b53-98ce-15d08d151ddb')"
   ]
  }
 ],
 "metadata": {
  "kernelspec": {
   "display_name": "Python 3",
   "language": "python",
   "name": "python3"
  },
  "language_info": {
   "codemirror_mode": {
    "name": "ipython",
    "version": 3
   },
   "file_extension": ".py",
   "mimetype": "text/x-python",
   "name": "python",
   "nbconvert_exporter": "python",
   "pygments_lexer": "ipython3",
   "version": "3.7.10"
  }
 },
 "nbformat": 4,
 "nbformat_minor": 5
}
