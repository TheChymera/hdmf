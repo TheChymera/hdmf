{
 "cells": [
  {
   "cell_type": "code",
   "execution_count": 13,
   "id": "fd4bcd3b",
   "metadata": {},
   "outputs": [],
   "source": [
    "from hdmf.common import ExternalResources\n",
    "from hdmf.common import DynamicTable\n",
    "from hdmf.container import AbstractContainer\n"
   ]
  },
  {
   "cell_type": "code",
   "execution_count": 2,
   "id": "621ace87",
   "metadata": {},
   "outputs": [],
   "source": [
    "genotypes = DynamicTable(name='genotypes', description='My genotypes')\n",
    "genotypes.add_column(name='genotype_name', description=\"Name of genotypes\")\n",
    "genotypes.add_row(id=0, genotype_name='Rorb')"
   ]
  },
  {
   "cell_type": "code",
   "execution_count": 17,
   "id": "15cdf4dc",
   "metadata": {},
   "outputs": [
    {
     "data": {
      "text/plain": [
       "{'_AbstractContainer__container_source': None,\n",
       " '_AbstractContainer__parent': None,\n",
       " '_AbstractContainer__children': [<hdmf.common.table.ElementIdentifiers at 0x7fa291e07a90>,\n",
       "  <hdmf.common.table.VectorData at 0x7fa291e07b10>],\n",
       " '_AbstractContainer__modified': True,\n",
       " '_AbstractContainer__object_id': '887f17f7-5597-41a1-89b2-3b95c246b585',\n",
       " '_AbstractContainer__name': 'genotypes',\n",
       " '_AbstractContainer__field_values': {'description': 'My genotypes',\n",
       "  'id': <hdmf.common.table.ElementIdentifiers at 0x7fa291e07a90>,\n",
       "  'colnames': ('genotype_name',),\n",
       "  'columns': (<hdmf.common.table.VectorData at 0x7fa291e07b10>,)},\n",
       " '_DynamicTable__uninit_cols': {},\n",
       " '_DynamicTable__indices': {},\n",
       " '_DynamicTable__df_cols': [<hdmf.common.table.ElementIdentifiers at 0x7fa291e07a90>,\n",
       "  <hdmf.common.table.VectorData at 0x7fa291e07b10>],\n",
       " '_DynamicTable__colids': {'genotype_name': 1},\n",
       " 'genotype_name': <hdmf.common.table.VectorData at 0x7fa291e07b10>}"
      ]
     },
     "execution_count": 17,
     "metadata": {},
     "output_type": "execute_result"
    }
   ],
   "source": [
    "genotypes.__dict__"
   ]
  },
  {
   "cell_type": "code",
   "execution_count": 28,
   "id": "bf3b5690",
   "metadata": {},
   "outputs": [
    {
     "data": {
      "text/plain": [
       "(<hdmf.common.table.ElementIdentifiers at 0x7fa291e07a90>,\n",
       " <hdmf.common.table.VectorData at 0x7fa291e07b10>)"
      ]
     },
     "execution_count": 28,
     "metadata": {},
     "output_type": "execute_result"
    }
   ],
   "source": [
    "#Return the children on an object \"object.children\"\n",
    "attributes=genotypes.children\n",
    "attributes"
   ]
  },
  {
   "cell_type": "code",
   "execution_count": 23,
   "id": "22fabdbf",
   "metadata": {},
   "outputs": [],
   "source": [
    "from hdmf.common import get_type_map\n",
    "\n",
    "type_map = get_type_map()"
   ]
  },
  {
   "cell_type": "code",
   "execution_count": 30,
   "id": "035fc742",
   "metadata": {},
   "outputs": [],
   "source": [
    "obj_mapper = type_map.get_map(genotypes)\n",
    "attr_spec=[]"
   ]
  },
  {
   "cell_type": "code",
   "execution_count": null,
   "id": "e32018a7",
   "metadata": {},
   "outputs": [],
   "source": [
    "obj_mapper.spec2attr()"
   ]
  },
  {
   "cell_type": "code",
   "execution_count": 37,
   "id": "676c90f2",
   "metadata": {},
   "outputs": [
    {
     "name": "stdout",
     "output_type": "stream",
     "text": [
      "id\n"
     ]
    },
    {
     "ename": "AttributeError",
     "evalue": "'NoneType' object has no attribute 'name'",
     "output_type": "error",
     "traceback": [
      "\u001b[0;31m---------------------------------------------------------------------------\u001b[0m",
      "\u001b[0;31mAttributeError\u001b[0m                            Traceback (most recent call last)",
      "\u001b[0;32m<ipython-input-37-ad62f5c92502>\u001b[0m in \u001b[0;36m<module>\u001b[0;34m\u001b[0m\n\u001b[1;32m      2\u001b[0m     \u001b[0mspec\u001b[0m \u001b[0;34m=\u001b[0m \u001b[0mobj_mapper\u001b[0m\u001b[0;34m.\u001b[0m\u001b[0mget_attr_spec\u001b[0m\u001b[0;34m(\u001b[0m\u001b[0mattr_name\u001b[0m\u001b[0;34m=\u001b[0m\u001b[0mitem\u001b[0m\u001b[0;34m.\u001b[0m\u001b[0mname\u001b[0m\u001b[0;34m)\u001b[0m\u001b[0;34m\u001b[0m\u001b[0;34m\u001b[0m\u001b[0m\n\u001b[1;32m      3\u001b[0m \u001b[0;31m#     attr_spec.append(spec)\u001b[0m\u001b[0;34m\u001b[0m\u001b[0;34m\u001b[0m\u001b[0;34m\u001b[0m\u001b[0m\n\u001b[0;32m----> 4\u001b[0;31m     \u001b[0mprint\u001b[0m\u001b[0;34m(\u001b[0m\u001b[0mspec\u001b[0m\u001b[0;34m.\u001b[0m\u001b[0mname\u001b[0m\u001b[0;34m)\u001b[0m\u001b[0;34m\u001b[0m\u001b[0;34m\u001b[0m\u001b[0m\n\u001b[0m",
      "\u001b[0;31mAttributeError\u001b[0m: 'NoneType' object has no attribute 'name'"
     ]
    }
   ],
   "source": [
    "for item in attributes:\n",
    "    spec = obj_mapper.get_attr_spec(attr_name=item.name)\n",
    "#     attr_spec.append(spec)\n",
    "    print(spec.name)"
   ]
  },
  {
   "cell_type": "code",
   "execution_count": 46,
   "id": "117f7203",
   "metadata": {},
   "outputs": [
    {
     "data": {
      "text/plain": [
       "{'colnames': {'doc': 'The names of the columns in this table. This should be used to specify an order to the columns.',\n",
       "  'name': 'colnames',\n",
       "  'dtype': 'text',\n",
       "  'shape': [None],\n",
       "  'dims': ['num_columns']},\n",
       " 'description': {'doc': 'Description of what is in this dynamic table.',\n",
       "  'name': 'description',\n",
       "  'dtype': 'text'},\n",
       " 'id': {'shape': [None],\n",
       "  'dims': ['num_rows'],\n",
       "  'dtype': 'int',\n",
       "  'doc': 'Array of unique identifiers for the rows of this dynamic table.',\n",
       "  'name': 'id',\n",
       "  'data_type_inc': 'ElementIdentifiers'},\n",
       " 'vector_datas': {'doc': 'Vector columns, including index columns, of this dynamic table.',\n",
       "  'quantity': '*',\n",
       "  'data_type_inc': 'VectorData'},\n",
       " 'columns': {'doc': 'Vector columns, including index columns, of this dynamic table.',\n",
       "  'quantity': '*',\n",
       "  'data_type_inc': 'VectorData'}}"
      ]
     },
     "execution_count": 46,
     "metadata": {},
     "output_type": "execute_result"
    }
   ],
   "source": [
    "obj_mapper._ObjectMapper__attr2spec"
   ]
  },
  {
   "cell_type": "code",
   "execution_count": null,
   "id": "3354162a",
   "metadata": {},
   "outputs": [],
   "source": []
  }
 ],
 "metadata": {
  "kernelspec": {
   "display_name": "Python 3",
   "language": "python",
   "name": "python3"
  },
  "language_info": {
   "codemirror_mode": {
    "name": "ipython",
    "version": 3
   },
   "file_extension": ".py",
   "mimetype": "text/x-python",
   "name": "python",
   "nbconvert_exporter": "python",
   "pygments_lexer": "ipython3",
   "version": "3.7.10"
  }
 },
 "nbformat": 4,
 "nbformat_minor": 5
}
