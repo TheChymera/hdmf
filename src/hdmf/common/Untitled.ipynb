{
 "cells": [
  {
   "cell_type": "code",
   "execution_count": 1,
   "id": "technological-influence",
   "metadata": {},
   "outputs": [],
   "source": [
    "from hdmf.common import ExternalResources\n",
    "from hdmf.common import DynamicTable\n",
    "from hdmf import Data"
   ]
  },
  {
   "cell_type": "code",
   "execution_count": 15,
   "id": "spectacular-underground",
   "metadata": {},
   "outputs": [
    {
     "name": "stdout",
     "output_type": "stream",
     "text": [
      "Package                       Version             Location\r\n",
      "----------------------------- ------------------- ----------------------------------\r\n",
      "alabaster                     0.7.12\r\n",
      "appdirs                       1.4.4\r\n",
      "appnope                       0.1.2\r\n",
      "argon2-cffi                   20.1.0\r\n",
      "async-generator               1.10\r\n",
      "attrs                         20.3.0\r\n",
      "Babel                         2.9.0\r\n",
      "backcall                      0.2.0\r\n",
      "bleach                        3.2.1\r\n",
      "certifi                       2020.12.5\r\n",
      "cffi                          1.14.4\r\n",
      "chardet                       4.0.0\r\n",
      "codecov                       2.1.8\r\n",
      "coverage                      5.2\r\n",
      "cycler                        0.10.0\r\n",
      "decorator                     4.4.2\r\n",
      "defusedxml                    0.6.0\r\n",
      "distlib                       0.3.1\r\n",
      "docutils                      0.16\r\n",
      "entrypoints                   0.3\r\n",
      "filelock                      3.0.12\r\n",
      "flake8                        3.8.3\r\n",
      "flake8-debugger               3.1.0\r\n",
      "flake8-print                  3.1.4\r\n",
      "h5py                          2.10.0\r\n",
      "hdmf                          2.5.1\r\n",
      "hdmf-docutils                 0.4.2\r\n",
      "idna                          2.10\r\n",
      "imagesize                     1.2.0\r\n",
      "importlib-metadata            1.7.0\r\n",
      "iniconfig                     1.1.1\r\n",
      "ipykernel                     5.4.3\r\n",
      "ipython                       7.19.0\r\n",
      "ipython-genutils              0.2.0\r\n",
      "ipywidgets                    7.6.3\r\n",
      "jedi                          0.18.0\r\n",
      "Jinja2                        2.11.2\r\n",
      "jsonschema                    3.2.0\r\n",
      "jupyter                       1.0.0\r\n",
      "jupyter-client                6.1.11\r\n",
      "jupyter-console               6.2.0\r\n",
      "jupyter-core                  4.7.0\r\n",
      "jupyterlab-pygments           0.1.2\r\n",
      "jupyterlab-widgets            1.0.0\r\n",
      "kiwisolver                    1.3.1\r\n",
      "MarkupSafe                    1.1.1\r\n",
      "matplotlib                    3.4.1\r\n",
      "mccabe                        0.6.1\r\n",
      "mistune                       0.8.4\r\n",
      "nbclient                      0.5.1\r\n",
      "nbconvert                     6.0.7\r\n",
      "nbformat                      5.1.2\r\n",
      "nest-asyncio                  1.4.3\r\n",
      "networkx                      2.5.1\r\n",
      "notebook                      6.2.0\r\n",
      "numpy                         1.18.5\r\n",
      "packaging                     20.8\r\n",
      "pandas                        0.25.3\r\n",
      "pandocfilters                 1.4.3\r\n",
      "parso                         0.8.1\r\n",
      "pexpect                       4.8.0\r\n",
      "pickleshare                   0.7.5\r\n",
      "Pillow                        8.1.2\r\n",
      "pip                           20.3.3\r\n",
      "pluggy                        0.13.1\r\n",
      "prometheus-client             0.9.0\r\n",
      "prompt-toolkit                3.0.10\r\n",
      "ptyprocess                    0.7.0\r\n",
      "py                            1.10.0\r\n",
      "pycodestyle                   2.6.0\r\n",
      "pycparser                     2.20\r\n",
      "pyflakes                      2.2.0\r\n",
      "Pygments                      2.7.4\r\n",
      "pynwb                         1.4.0.post0.dev17   /Users/mavaylon/Research/pynwb/src\r\n",
      "pyparsing                     2.4.7\r\n",
      "pyrsistent                    0.17.3\r\n",
      "pytest                        6.2.4\r\n",
      "python-dateutil               2.8.1\r\n",
      "pytz                          2020.5\r\n",
      "pyzmq                         21.0.1\r\n",
      "qtconsole                     5.0.1\r\n",
      "QtPy                          1.9.0\r\n",
      "requests                      2.25.1\r\n",
      "ruamel.yaml                   0.16.12\r\n",
      "ruamel.yaml.clib              0.2.2\r\n",
      "scipy                         1.5.4\r\n",
      "Send2Trash                    1.5.0\r\n",
      "setuptools                    51.1.2.post20210110\r\n",
      "six                           1.15.0\r\n",
      "snowballstemmer               2.1.0\r\n",
      "Sphinx                        3.5.3\r\n",
      "sphinx-gallery                0.8.2\r\n",
      "sphinx-rtd-theme              0.5.1\r\n",
      "sphinxcontrib-applehelp       1.0.2\r\n",
      "sphinxcontrib-devhelp         1.0.2\r\n",
      "sphinxcontrib-htmlhelp        1.0.3\r\n",
      "sphinxcontrib-jsmath          1.0.1\r\n",
      "sphinxcontrib-qthelp          1.0.3\r\n",
      "sphinxcontrib-serializinghtml 1.1.4\r\n",
      "terminado                     0.9.2\r\n",
      "testpath                      0.4.4\r\n",
      "toml                          0.10.2\r\n",
      "tornado                       6.1\r\n",
      "tox                           3.17.1\r\n",
      "traitlets                     5.0.5\r\n",
      "urllib3                       1.26.2\r\n",
      "virtualenv                    20.3.0\r\n",
      "wcwidth                       0.2.5\r\n",
      "webencodings                  0.5.1\r\n",
      "wheel                         0.36.2\r\n",
      "widgetsnbextension            3.5.1\r\n",
      "zipp                          3.4.0\r\n"
     ]
    }
   ],
   "source": [
    "!pip list"
   ]
  },
  {
   "cell_type": "code",
   "execution_count": 2,
   "id": "planned-syndication",
   "metadata": {},
   "outputs": [
    {
     "name": "stderr",
     "output_type": "stream",
     "text": [
      "/Users/mavaylon/opt/anaconda3/envs/pynwb/lib/python3.7/site-packages/hdmf/container.py:181: UserWarning: ExternalResources is experimental -- it may be removed in the future and is not guaranteed to maintain backward compatibility\n",
      "  warn(_exp_warn_msg(cls))\n"
     ]
    },
    {
     "data": {
      "text/plain": [
       "(<hdmf.common.resources.Key at 0x7f9b26f8c7d0>,\n",
       " <hdmf.common.resources.Resource at 0x7f9b26f8c750>,\n",
       " <hdmf.common.resources.Entity at 0x7f9b26f8c650>)"
      ]
     },
     "execution_count": 2,
     "metadata": {},
     "output_type": "execute_result"
    }
   ],
   "source": [
    "er = ExternalResources(name='example')\n",
    "\n",
    "data = Data(name=\"species\", data=['Homo sapiens', 'Mus musculus'])\n",
    "er.add_ref(container=data, field='', key='Homo sapiens', resource_name='NCBI_Taxonomy',\n",
    "           resource_uri='https://www.ncbi.nlm.nih.gov/taxonomy', entity_id='NCBI:txid9606',\n",
    "           entity_uri='https://www.ncbi.nlm.nih.gov/Taxonomy/Browser/wwwtax.cgi?id=9606')\n",
    "\n",
    "# Using get_resource\n",
    "existing_resource = er.get_resource('NCBI_Taxonomy')\n",
    "er.add_ref(container=data, field='', key='Mus musculus', resources_idx=existing_resource,\n",
    "           entity_id='NCBI:txid10090',\n",
    "           entity_uri='https://www.ncbi.nlm.nih.gov/Taxonomy/Browser/wwwtax.cgi?id=10090')\n"
   ]
  },
  {
   "cell_type": "code",
   "execution_count": 3,
   "id": "split-bicycle",
   "metadata": {},
   "outputs": [
    {
     "data": {
      "text/plain": [
       "(<hdmf.common.resources.Key at 0x7f9b26e99b90>,\n",
       " <hdmf.common.resources.Resource at 0x7f9b24d38d10>,\n",
       " <hdmf.common.resources.Entity at 0x7f9b24d38b50>)"
      ]
     },
     "execution_count": 3,
     "metadata": {},
     "output_type": "execute_result"
    }
   ],
   "source": [
    "\n",
    "genotypes = DynamicTable(name='genotypes', description='My genotypes')\n",
    "genotypes.add_column(name='genotype_name', description=\"Name of genotypes\")\n",
    "genotypes.add_row(id=0, genotype_name='Rorb')\n",
    "er.add_ref(container=genotypes, field='genotype_name', key='Rorb', resource_name='MGI Ontology',\n",
    "           resource_uri='http://www.informatics.jax.org/', entity_id='MGI:1346434',\n",
    "           entity_uri=\"http://www.informatics.jax.org/probe/key/804614\")"
   ]
  },
  {
   "cell_type": "code",
   "execution_count": 4,
   "id": "tested-algeria",
   "metadata": {},
   "outputs": [
    {
     "data": {
      "text/plain": [
       "(<hdmf.common.resources.Key at 0x7f9b265b5710>,\n",
       " <hdmf.common.resources.Resource at 0x7f9b26f70490>,\n",
       " <hdmf.common.resources.Entity at 0x7f9b26f70410>)"
      ]
     },
     "execution_count": 4,
     "metadata": {},
     "output_type": "execute_result"
    }
   ],
   "source": [
    "# The get_key method will return the key object of the unique (key, container, field).\n",
    "key_object = er.get_key(key_name='Rorb', container=genotypes, field='genotype_name')\n",
    "\n",
    "###############################################################################\n",
    "# Using the add_ref method with a key_object\n",
    "# ------------------------------------------------------\n",
    "# Sometimes you want to reference a specific key that already exists when adding\n",
    "# new ontology data into ``ExternalResources``.\n",
    "\n",
    "er.add_ref(container=genotypes, field='genotype_name', key=key_object, resource_name='Ensembl',\n",
    "           resource_uri='https://uswest.ensembl.org/index.html', entity_id='ENSG00000198963',\n",
    "           entity_uri='https://uswest.ensembl.org/Homo_sapiens/Gene/Summary?db=core;g=ENSG00000198963')\n"
   ]
  },
  {
   "cell_type": "code",
   "execution_count": 5,
   "id": "upset-shell",
   "metadata": {},
   "outputs": [
    {
     "data": {
      "text/html": [
       "<div>\n",
       "<style scoped>\n",
       "    .dataframe tbody tr th:only-of-type {\n",
       "        vertical-align: middle;\n",
       "    }\n",
       "\n",
       "    .dataframe tbody tr th {\n",
       "        vertical-align: top;\n",
       "    }\n",
       "\n",
       "    .dataframe thead th {\n",
       "        text-align: right;\n",
       "    }\n",
       "</style>\n",
       "<table border=\"1\" class=\"dataframe\">\n",
       "  <thead>\n",
       "    <tr style=\"text-align: right;\">\n",
       "      <th></th>\n",
       "      <th>key_name</th>\n",
       "      <th>resources_idx</th>\n",
       "      <th>entity_id</th>\n",
       "      <th>entity_uri</th>\n",
       "    </tr>\n",
       "  </thead>\n",
       "  <tbody>\n",
       "    <tr>\n",
       "      <th>0</th>\n",
       "      <td>Homo sapiens</td>\n",
       "      <td>0</td>\n",
       "      <td>NCBI:txid9606</td>\n",
       "      <td>https://www.ncbi.nlm.nih.gov/Taxonomy/Browser/...</td>\n",
       "    </tr>\n",
       "    <tr>\n",
       "      <th>1</th>\n",
       "      <td>Mus musculus</td>\n",
       "      <td>0</td>\n",
       "      <td>NCBI:txid10090</td>\n",
       "      <td>https://www.ncbi.nlm.nih.gov/Taxonomy/Browser/...</td>\n",
       "    </tr>\n",
       "    <tr>\n",
       "      <th>2</th>\n",
       "      <td>Rorb</td>\n",
       "      <td>1</td>\n",
       "      <td>MGI:1346434</td>\n",
       "      <td>http://www.informatics.jax.org/probe/key/804614</td>\n",
       "    </tr>\n",
       "    <tr>\n",
       "      <th>3</th>\n",
       "      <td>Rorb</td>\n",
       "      <td>2</td>\n",
       "      <td>ENSG00000198963</td>\n",
       "      <td>https://uswest.ensembl.org/Homo_sapiens/Gene/S...</td>\n",
       "    </tr>\n",
       "  </tbody>\n",
       "</table>\n",
       "</div>"
      ],
      "text/plain": [
       "       key_name  resources_idx        entity_id  \\\n",
       "0  Homo sapiens              0    NCBI:txid9606   \n",
       "1  Mus musculus              0   NCBI:txid10090   \n",
       "2          Rorb              1      MGI:1346434   \n",
       "3          Rorb              2  ENSG00000198963   \n",
       "\n",
       "                                          entity_uri  \n",
       "0  https://www.ncbi.nlm.nih.gov/Taxonomy/Browser/...  \n",
       "1  https://www.ncbi.nlm.nih.gov/Taxonomy/Browser/...  \n",
       "2    http://www.informatics.jax.org/probe/key/804614  \n",
       "3  https://uswest.ensembl.org/Homo_sapiens/Gene/S...  "
      ]
     },
     "execution_count": 5,
     "metadata": {},
     "output_type": "execute_result"
    }
   ],
   "source": [
    "er.get_keys()"
   ]
  },
  {
   "cell_type": "code",
   "execution_count": 6,
   "id": "forced-implementation",
   "metadata": {},
   "outputs": [
    {
     "data": {
      "text/html": [
       "<div>\n",
       "<style scoped>\n",
       "    .dataframe tbody tr th:only-of-type {\n",
       "        vertical-align: middle;\n",
       "    }\n",
       "\n",
       "    .dataframe tbody tr th {\n",
       "        vertical-align: top;\n",
       "    }\n",
       "\n",
       "    .dataframe thead th {\n",
       "        text-align: right;\n",
       "    }\n",
       "</style>\n",
       "<table border=\"1\" class=\"dataframe\">\n",
       "  <thead>\n",
       "    <tr style=\"text-align: right;\">\n",
       "      <th></th>\n",
       "      <th>objects_idx</th>\n",
       "      <th>keys_idx</th>\n",
       "    </tr>\n",
       "  </thead>\n",
       "  <tbody>\n",
       "    <tr>\n",
       "      <th>0</th>\n",
       "      <td>0</td>\n",
       "      <td>0</td>\n",
       "    </tr>\n",
       "    <tr>\n",
       "      <th>1</th>\n",
       "      <td>0</td>\n",
       "      <td>1</td>\n",
       "    </tr>\n",
       "    <tr>\n",
       "      <th>2</th>\n",
       "      <td>1</td>\n",
       "      <td>2</td>\n",
       "    </tr>\n",
       "    <tr>\n",
       "      <th>3</th>\n",
       "      <td>1</td>\n",
       "      <td>2</td>\n",
       "    </tr>\n",
       "  </tbody>\n",
       "</table>\n",
       "</div>"
      ],
      "text/plain": [
       "   objects_idx  keys_idx\n",
       "0            0         0\n",
       "1            0         1\n",
       "2            1         2\n",
       "3            1         2"
      ]
     },
     "execution_count": 6,
     "metadata": {},
     "output_type": "execute_result"
    }
   ],
   "source": [
    "er.object_keys.to_dataframe()"
   ]
  },
  {
   "cell_type": "code",
   "execution_count": 7,
   "id": "arbitrary-earth",
   "metadata": {},
   "outputs": [
    {
     "data": {
      "text/html": [
       "<div>\n",
       "<style scoped>\n",
       "    .dataframe tbody tr th:only-of-type {\n",
       "        vertical-align: middle;\n",
       "    }\n",
       "\n",
       "    .dataframe tbody tr th {\n",
       "        vertical-align: top;\n",
       "    }\n",
       "\n",
       "    .dataframe thead th {\n",
       "        text-align: right;\n",
       "    }\n",
       "</style>\n",
       "<table border=\"1\" class=\"dataframe\">\n",
       "  <thead>\n",
       "    <tr style=\"text-align: right;\">\n",
       "      <th></th>\n",
       "      <th>object_id</th>\n",
       "      <th>field</th>\n",
       "    </tr>\n",
       "  </thead>\n",
       "  <tbody>\n",
       "    <tr>\n",
       "      <th>0</th>\n",
       "      <td>f676aaf1-ea34-482b-89fc-00088a5e22ca</td>\n",
       "      <td></td>\n",
       "    </tr>\n",
       "    <tr>\n",
       "      <th>1</th>\n",
       "      <td>ca6e08d7-9061-41a5-8a47-795f420e51fc</td>\n",
       "      <td>genotype_name</td>\n",
       "    </tr>\n",
       "  </tbody>\n",
       "</table>\n",
       "</div>"
      ],
      "text/plain": [
       "                              object_id          field\n",
       "0  f676aaf1-ea34-482b-89fc-00088a5e22ca               \n",
       "1  ca6e08d7-9061-41a5-8a47-795f420e51fc  genotype_name"
      ]
     },
     "execution_count": 7,
     "metadata": {},
     "output_type": "execute_result"
    }
   ],
   "source": [
    "er.objects.to_dataframe()"
   ]
  },
  {
   "cell_type": "code",
   "execution_count": 8,
   "id": "coated-renaissance",
   "metadata": {},
   "outputs": [],
   "source": [
    "object_field = er._check_object_field('f0c66e82-309e-4a45-bfd6-577a92340960', 'genotype_name')\n",
    "keys=[]\n",
    "for row_idx in er.object_keys.which(objects_idx=object_field.idx):\n",
    "    key_idx = er.object_keys['keys_idx', row_idx]\n",
    "    keys.append(key_idx)"
   ]
  },
  {
   "cell_type": "code",
   "execution_count": 9,
   "id": "attached-explorer",
   "metadata": {},
   "outputs": [
    {
     "data": {
      "text/plain": [
       "[]"
      ]
     },
     "execution_count": 9,
     "metadata": {},
     "output_type": "execute_result"
    }
   ],
   "source": [
    "keys"
   ]
  },
  {
   "cell_type": "code",
   "execution_count": 10,
   "id": "hungarian-navigation",
   "metadata": {},
   "outputs": [
    {
     "data": {
      "text/html": [
       "<div>\n",
       "<style scoped>\n",
       "    .dataframe tbody tr th:only-of-type {\n",
       "        vertical-align: middle;\n",
       "    }\n",
       "\n",
       "    .dataframe tbody tr th {\n",
       "        vertical-align: top;\n",
       "    }\n",
       "\n",
       "    .dataframe thead th {\n",
       "        text-align: right;\n",
       "    }\n",
       "</style>\n",
       "<table border=\"1\" class=\"dataframe\">\n",
       "  <thead>\n",
       "    <tr style=\"text-align: right;\">\n",
       "      <th></th>\n",
       "      <th>keys_idx</th>\n",
       "      <th>resources_idx</th>\n",
       "      <th>entity_id</th>\n",
       "      <th>entity_uri</th>\n",
       "    </tr>\n",
       "  </thead>\n",
       "  <tbody>\n",
       "    <tr>\n",
       "      <th>0</th>\n",
       "      <td>0</td>\n",
       "      <td>0</td>\n",
       "      <td>NCBI:txid9606</td>\n",
       "      <td>https://www.ncbi.nlm.nih.gov/Taxonomy/Browser/...</td>\n",
       "    </tr>\n",
       "    <tr>\n",
       "      <th>1</th>\n",
       "      <td>1</td>\n",
       "      <td>0</td>\n",
       "      <td>NCBI:txid10090</td>\n",
       "      <td>https://www.ncbi.nlm.nih.gov/Taxonomy/Browser/...</td>\n",
       "    </tr>\n",
       "    <tr>\n",
       "      <th>2</th>\n",
       "      <td>2</td>\n",
       "      <td>1</td>\n",
       "      <td>MGI:1346434</td>\n",
       "      <td>http://www.informatics.jax.org/probe/key/804614</td>\n",
       "    </tr>\n",
       "    <tr>\n",
       "      <th>3</th>\n",
       "      <td>2</td>\n",
       "      <td>2</td>\n",
       "      <td>ENSG00000198963</td>\n",
       "      <td>https://uswest.ensembl.org/Homo_sapiens/Gene/S...</td>\n",
       "    </tr>\n",
       "  </tbody>\n",
       "</table>\n",
       "</div>"
      ],
      "text/plain": [
       "   keys_idx  resources_idx        entity_id  \\\n",
       "0         0              0    NCBI:txid9606   \n",
       "1         1              0   NCBI:txid10090   \n",
       "2         2              1      MGI:1346434   \n",
       "3         2              2  ENSG00000198963   \n",
       "\n",
       "                                          entity_uri  \n",
       "0  https://www.ncbi.nlm.nih.gov/Taxonomy/Browser/...  \n",
       "1  https://www.ncbi.nlm.nih.gov/Taxonomy/Browser/...  \n",
       "2    http://www.informatics.jax.org/probe/key/804614  \n",
       "3  https://uswest.ensembl.org/Homo_sapiens/Gene/S...  "
      ]
     },
     "execution_count": 10,
     "metadata": {},
     "output_type": "execute_result"
    }
   ],
   "source": [
    "er.entities.to_dataframe()"
   ]
  },
  {
   "cell_type": "code",
   "execution_count": 11,
   "id": "treated-raising",
   "metadata": {},
   "outputs": [
    {
     "data": {
      "text/plain": [
       "(2, 1, 'MGI:1346434', 'http://www.informatics.jax.org/probe/key/804614')"
      ]
     },
     "execution_count": 11,
     "metadata": {},
     "output_type": "execute_result"
    }
   ],
   "source": [
    "k=er.entities.__getitem__(2)\n",
    "k"
   ]
  },
  {
   "cell_type": "code",
   "execution_count": 12,
   "id": "widespread-ending",
   "metadata": {},
   "outputs": [],
   "source": [
    "import pandas as pd"
   ]
  },
  {
   "cell_type": "code",
   "execution_count": 13,
   "id": "handled-matrix",
   "metadata": {},
   "outputs": [
    {
     "data": {
      "text/html": [
       "<div>\n",
       "<style scoped>\n",
       "    .dataframe tbody tr th:only-of-type {\n",
       "        vertical-align: middle;\n",
       "    }\n",
       "\n",
       "    .dataframe tbody tr th {\n",
       "        vertical-align: top;\n",
       "    }\n",
       "\n",
       "    .dataframe thead th {\n",
       "        text-align: right;\n",
       "    }\n",
       "</style>\n",
       "<table border=\"1\" class=\"dataframe\">\n",
       "  <thead>\n",
       "    <tr style=\"text-align: right;\">\n",
       "      <th></th>\n",
       "      <th>keys_idx</th>\n",
       "      <th>resource_idx</th>\n",
       "      <th>enitity_id</th>\n",
       "      <th>entity_uri</th>\n",
       "    </tr>\n",
       "  </thead>\n",
       "  <tbody>\n",
       "    <tr>\n",
       "      <th>0</th>\n",
       "      <td>2</td>\n",
       "      <td>1</td>\n",
       "      <td>MGI:1346434</td>\n",
       "      <td>http://www.informatics.jax.org/probe/key/804614</td>\n",
       "    </tr>\n",
       "  </tbody>\n",
       "</table>\n",
       "</div>"
      ],
      "text/plain": [
       "   keys_idx  resource_idx   enitity_id  \\\n",
       "0         2             1  MGI:1346434   \n",
       "\n",
       "                                        entity_uri  \n",
       "0  http://www.informatics.jax.org/probe/key/804614  "
      ]
     },
     "execution_count": 13,
     "metadata": {},
     "output_type": "execute_result"
    }
   ],
   "source": [
    "pd.DataFrame([k], columns=['keys_idx', 'resource_idx', 'enitity_id', 'entity_uri'])"
   ]
  },
  {
   "cell_type": "code",
   "execution_count": 14,
   "id": "crazy-independence",
   "metadata": {},
   "outputs": [
    {
     "ename": "AttributeError",
     "evalue": "'ExternalResources' object has no attribute 'get_entity_resource_object'",
     "output_type": "error",
     "traceback": [
      "\u001b[0;31m---------------------------------------------------------------------------\u001b[0m",
      "\u001b[0;31mAttributeError\u001b[0m                            Traceback (most recent call last)",
      "\u001b[0;32m<ipython-input-14-b57f25583964>\u001b[0m in \u001b[0;36m<module>\u001b[0;34m\u001b[0m\n\u001b[0;32m----> 1\u001b[0;31m \u001b[0mer\u001b[0m\u001b[0;34m.\u001b[0m\u001b[0mget_entity_resource_object\u001b[0m\u001b[0;34m(\u001b[0m\u001b[0mcontainer\u001b[0m\u001b[0;34m=\u001b[0m\u001b[0;34m'88aae6f1-a5cc-4b53-98ce-15d08d151ddb'\u001b[0m\u001b[0;34m)\u001b[0m\u001b[0;34m\u001b[0m\u001b[0;34m\u001b[0m\u001b[0m\n\u001b[0m",
      "\u001b[0;31mAttributeError\u001b[0m: 'ExternalResources' object has no attribute 'get_entity_resource_object'"
     ]
    }
   ],
   "source": [
    "er.get_entity_resource_object(container='88aae6f1-a5cc-4b53-98ce-15d08d151ddb')"
   ]
  }
 ],
 "metadata": {
  "kernelspec": {
   "display_name": "Python 3",
   "language": "python",
   "name": "python3"
  },
  "language_info": {
   "codemirror_mode": {
    "name": "ipython",
    "version": 3
   },
   "file_extension": ".py",
   "mimetype": "text/x-python",
   "name": "python",
   "nbconvert_exporter": "python",
   "pygments_lexer": "ipython3",
   "version": "3.7.9"
  }
 },
 "nbformat": 4,
 "nbformat_minor": 5
}
