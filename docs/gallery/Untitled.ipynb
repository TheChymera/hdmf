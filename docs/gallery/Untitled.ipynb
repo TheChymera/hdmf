{
 "cells": [
  {
   "cell_type": "code",
   "execution_count": 7,
   "id": "exclusive-secretariat",
   "metadata": {},
   "outputs": [
    {
     "name": "stderr",
     "output_type": "stream",
     "text": [
      "/Users/mavaylon/Research/hdmf_testing/hdmf/src/hdmf/container.py:181: UserWarning: ExternalResources is experimental -- it may be removed in the future and is not guaranteed to maintain backward compatibility\n",
      "  warn(_exp_warn_msg(cls))\n"
     ]
    }
   ],
   "source": [
    "from hdmf.common import ExternalResources\n",
    "from hdmf import Data\n",
    "import pandas as pd\n",
    "\n",
    "er = ExternalResources(name='example')"
   ]
  },
  {
   "cell_type": "code",
   "execution_count": 8,
   "id": "variable-pilot",
   "metadata": {},
   "outputs": [
    {
     "data": {
      "text/plain": [
       "<hdmf.common.resources.Entity at 0x7fa170234dd0>"
      ]
     },
     "execution_count": 8,
     "metadata": {},
     "output_type": "execute_result"
    }
   ],
   "source": [
    "data = Data(name=\"species\", data=['Homo sapien', 'Mus Musculus'])\n",
    "data2 = Data(name=\"species\", data=['Homo sapien', 'Mus Musculus'])\n",
    "er.add_ref(container=data, field='', key='Homo sapien', resource_name='NCBI_Taxonomy',\n",
    "           resource_uri='https://www.ncbi.nlm.nih.gov/taxonomy', entity_id='NCBI:txid9606',\n",
    "           entity_uri='https://www.ncbi.nlm.nih.gov/Taxonomy/Browser/wwwtax.cgi?id=9606')\n",
    "er.add_ref(container=data, field='', key='Homo sapien', resource_name='NCBI_Taxonomy',\n",
    "           resource_uri='https://www.ncbi.nlm.nih.gov/taxonomy', entity_id='NCBI:txid9606',\n",
    "           entity_uri='https://www.ncbi.nlm.nih.gov/Taxonomy/Browser/wwwtax.cgi?id=9606')\n",
    "er.add_ref(container=data2, field='', key='Homo sapien', resource_name='NCBI_Taxonomy',\n",
    "           resource_uri='https://www.ncbi.nlm.nih.gov/taxonomy', entity_id='NCBI:txid9606',\n",
    "           entity_uri='https://www.ncbi.nlm.nih.gov/Taxonomy/Browser/wwwtax.cgi?id=9606')\n",
    "er.add_ref(container=data, field='', key='Mus Musculus', resource_name='NCBI_Taxonomy',\n",
    "           resource_uri='https://www.ncbi.nlm.nih.gov/taxonomy', entity_id='NCBI:txid10090',\n",
    "           entity_uri='https://www.ncbi.nlm.nih.gov/Taxonomy/Browser/wwwtax.cgi?id=10090')"
   ]
  },
  {
   "cell_type": "code",
   "execution_count": 9,
   "id": "alone-japanese",
   "metadata": {},
   "outputs": [
    {
     "data": {
      "text/html": [
       "<div>\n",
       "<style scoped>\n",
       "    .dataframe tbody tr th:only-of-type {\n",
       "        vertical-align: middle;\n",
       "    }\n",
       "\n",
       "    .dataframe tbody tr th {\n",
       "        vertical-align: top;\n",
       "    }\n",
       "\n",
       "    .dataframe thead th {\n",
       "        text-align: right;\n",
       "    }\n",
       "</style>\n",
       "<table border=\"1\" class=\"dataframe\">\n",
       "  <thead>\n",
       "    <tr style=\"text-align: right;\">\n",
       "      <th></th>\n",
       "      <th>key_name</th>\n",
       "      <th>resources_idx</th>\n",
       "      <th>entity_id</th>\n",
       "      <th>entity_uri</th>\n",
       "    </tr>\n",
       "  </thead>\n",
       "  <tbody>\n",
       "    <tr>\n",
       "      <th>0</th>\n",
       "      <td>Homo sapien</td>\n",
       "      <td>0</td>\n",
       "      <td>NCBI:txid9606</td>\n",
       "      <td>https://www.ncbi.nlm.nih.gov/Taxonomy/Browser/...</td>\n",
       "    </tr>\n",
       "    <tr>\n",
       "      <th>1</th>\n",
       "      <td>Homo sapien</td>\n",
       "      <td>1</td>\n",
       "      <td>NCBI:txid9606</td>\n",
       "      <td>https://www.ncbi.nlm.nih.gov/Taxonomy/Browser/...</td>\n",
       "    </tr>\n",
       "    <tr>\n",
       "      <th>2</th>\n",
       "      <td>Homo sapien</td>\n",
       "      <td>2</td>\n",
       "      <td>NCBI:txid9606</td>\n",
       "      <td>https://www.ncbi.nlm.nih.gov/Taxonomy/Browser/...</td>\n",
       "    </tr>\n",
       "    <tr>\n",
       "      <th>3</th>\n",
       "      <td>Mus Musculus</td>\n",
       "      <td>3</td>\n",
       "      <td>NCBI:txid10090</td>\n",
       "      <td>https://www.ncbi.nlm.nih.gov/Taxonomy/Browser/...</td>\n",
       "    </tr>\n",
       "  </tbody>\n",
       "</table>\n",
       "</div>"
      ],
      "text/plain": [
       "       key_name  resources_idx       entity_id  \\\n",
       "0   Homo sapien              0   NCBI:txid9606   \n",
       "1   Homo sapien              1   NCBI:txid9606   \n",
       "2   Homo sapien              2   NCBI:txid9606   \n",
       "3  Mus Musculus              3  NCBI:txid10090   \n",
       "\n",
       "                                          entity_uri  \n",
       "0  https://www.ncbi.nlm.nih.gov/Taxonomy/Browser/...  \n",
       "1  https://www.ncbi.nlm.nih.gov/Taxonomy/Browser/...  \n",
       "2  https://www.ncbi.nlm.nih.gov/Taxonomy/Browser/...  \n",
       "3  https://www.ncbi.nlm.nih.gov/Taxonomy/Browser/...  "
      ]
     },
     "execution_count": 9,
     "metadata": {},
     "output_type": "execute_result"
    }
   ],
   "source": [
    "er.get_keys()"
   ]
  },
  {
   "cell_type": "code",
   "execution_count": 10,
   "id": "happy-stomach",
   "metadata": {},
   "outputs": [
    {
     "data": {
      "text/html": [
       "<div>\n",
       "<style scoped>\n",
       "    .dataframe tbody tr th:only-of-type {\n",
       "        vertical-align: middle;\n",
       "    }\n",
       "\n",
       "    .dataframe tbody tr th {\n",
       "        vertical-align: top;\n",
       "    }\n",
       "\n",
       "    .dataframe thead th {\n",
       "        text-align: right;\n",
       "    }\n",
       "</style>\n",
       "<table border=\"1\" class=\"dataframe\">\n",
       "  <thead>\n",
       "    <tr style=\"text-align: right;\">\n",
       "      <th></th>\n",
       "      <th>key</th>\n",
       "    </tr>\n",
       "  </thead>\n",
       "  <tbody>\n",
       "    <tr>\n",
       "      <th>0</th>\n",
       "      <td>Homo sapien</td>\n",
       "    </tr>\n",
       "    <tr>\n",
       "      <th>1</th>\n",
       "      <td>Mus Musculus</td>\n",
       "    </tr>\n",
       "  </tbody>\n",
       "</table>\n",
       "</div>"
      ],
      "text/plain": [
       "            key\n",
       "0   Homo sapien\n",
       "1  Mus Musculus"
      ]
     },
     "execution_count": 10,
     "metadata": {},
     "output_type": "execute_result"
    }
   ],
   "source": [
    "er.keys.to_dataframe()"
   ]
  },
  {
   "cell_type": "code",
   "execution_count": 13,
   "id": "southwest-bicycle",
   "metadata": {},
   "outputs": [
    {
     "data": {
      "text/plain": [
       "<hdmf.common.resources.Key at 0x7fa1701aff90>"
      ]
     },
     "execution_count": 13,
     "metadata": {},
     "output_type": "execute_result"
    }
   ],
   "source": [
    "er.get_key('Homo sapien',container=data)"
   ]
  },
  {
   "cell_type": "code",
   "execution_count": 14,
   "id": "forward-minority",
   "metadata": {},
   "outputs": [
    {
     "data": {
      "text/plain": [
       "<hdmf.common.resources.Key at 0x7fa1701aff90>"
      ]
     },
     "execution_count": 14,
     "metadata": {},
     "output_type": "execute_result"
    }
   ],
   "source": [
    "er.get_key('Homo sapien',container=data2)"
   ]
  },
  {
   "cell_type": "code",
   "execution_count": null,
   "id": "smart-jacket",
   "metadata": {},
   "outputs": [],
   "source": []
  }
 ],
 "metadata": {
  "kernelspec": {
   "display_name": "Python 3",
   "language": "python",
   "name": "python3"
  },
  "language_info": {
   "codemirror_mode": {
    "name": "ipython",
    "version": 3
   },
   "file_extension": ".py",
   "mimetype": "text/x-python",
   "name": "python",
   "nbconvert_exporter": "python",
   "pygments_lexer": "ipython3",
   "version": "3.7.9"
  }
 },
 "nbformat": 4,
 "nbformat_minor": 5
}
