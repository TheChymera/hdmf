{
 "cells": [
  {
   "cell_type": "code",
   "execution_count": 7,
   "id": "artificial-relay",
   "metadata": {},
   "outputs": [],
   "source": [
    "from hdmf.common import ExternalResources\n",
    "from hdmf.common import DynamicTable\n",
    "from hdmf import Data\n",
    "import pandas as pd\n",
    "\n",
    "er = ExternalResources(name='example')"
   ]
  },
  {
   "cell_type": "code",
   "execution_count": 8,
   "id": "classified-korea",
   "metadata": {},
   "outputs": [
    {
     "data": {
      "text/plain": [
       "(<hdmf.common.resources.Key at 0x7ff8e21ac0d0>,\n",
       " <hdmf.common.resources.Resource at 0x7ff8e21aced0>,\n",
       " <hdmf.common.resources.Entity at 0x7ff8e21acf50>)"
      ]
     },
     "execution_count": 8,
     "metadata": {},
     "output_type": "execute_result"
    }
   ],
   "source": [
    "key1 = er.add_key('key1')\n",
    "key2 = er.add_key('key1')\n",
    "er.add_ref(\n",
    "            'uuid1', 'field1', key1, resource_name='resource1',\n",
    "            resource_uri='resource_uri1', entity_id=\"id11\", entity_uri='url11')\n",
    "er.add_ref(\n",
    "            'uuid2', 'field2', key2, resource_name='resource2',\n",
    "            resource_uri='resource_uri2', entity_id=\"id12\", entity_uri='url12')\n",
    "er.add_ref(\n",
    "            'uuid1', 'field1', er.get_key('key1', 'uuid1', 'field1'), resource_name='resource3',\n",
    "            resource_uri='resource_uri3', entity_id=\"id13\", entity_uri='url13')\n"
   ]
  },
  {
   "cell_type": "code",
   "execution_count": 10,
   "id": "polish-dylan",
   "metadata": {},
   "outputs": [
    {
     "data": {
      "text/plain": [
       "[('key1',), ('key1',)]"
      ]
     },
     "execution_count": 10,
     "metadata": {},
     "output_type": "execute_result"
    }
   ],
   "source": [
    "er.keys.data"
   ]
  },
  {
   "cell_type": "code",
   "execution_count": 27,
   "id": "detailed-plant",
   "metadata": {},
   "outputs": [
    {
     "data": {
      "text/plain": [
       "<hdmf.common.resources.Object at 0x7f9586b04b50>"
      ]
     },
     "execution_count": 27,
     "metadata": {},
     "output_type": "execute_result"
    }
   ],
   "source": [
    "er = ExternalResources('terms')\n",
    "data = Data(name=\"species\", data=['Homo sapiens', 'Mus musculus'])\n",
    "er._check_object_field('uuid1','field1')\n",
    "er._check_object_field(data,'field2')"
   ]
  },
  {
   "cell_type": "code",
   "execution_count": 29,
   "id": "seventh-pioneer",
   "metadata": {},
   "outputs": [
    {
     "data": {
      "text/plain": [
       "'fed1e19c-2987-4c58-893f-c593bcb18e03'"
      ]
     },
     "execution_count": 29,
     "metadata": {},
     "output_type": "execute_result"
    }
   ],
   "source": [
    "data.object_id"
   ]
  },
  {
   "cell_type": "code",
   "execution_count": 23,
   "id": "wooden-celebrity",
   "metadata": {},
   "outputs": [
    {
     "name": "stderr",
     "output_type": "stream",
     "text": [
      "/Users/mavaylon/Research/hdmf_testing/hdmf/src/hdmf/container.py:181: UserWarning: ExternalResources is experimental -- it may be removed in the future and is not guaranteed to maintain backward compatibility\n",
      "  warn(_exp_warn_msg(cls))\n"
     ]
    },
    {
     "data": {
      "text/plain": [
       "(<hdmf.common.resources.Key at 0x7f95869f7910>,\n",
       " <hdmf.common.resources.Resource at 0x7f95869b8e50>,\n",
       " <hdmf.common.resources.Entity at 0x7f95869b8b50>)"
      ]
     },
     "execution_count": 23,
     "metadata": {},
     "output_type": "execute_result"
    }
   ],
   "source": [
    "er = ExternalResources('terms')\n",
    "er.add_ref(\n",
    "            container='uuid1', field='field1', key='key1', resource_name='resource1',\n",
    "            resource_uri='resource_uri1', entity_id=\"id11\", entity_uri='url11')\n",
    "er.add_ref(\n",
    "            container='uuid2', field='field2', key='key1', resource_name='resource2',\n",
    "            resource_uri='resource_uri2', entity_id=\"id12\", entity_uri='url21')"
   ]
  },
  {
   "cell_type": "code",
   "execution_count": 28,
   "id": "determined-catering",
   "metadata": {},
   "outputs": [
    {
     "data": {
      "text/plain": [
       "[('uuid1', 'field1'), ('fed1e19c-2987-4c58-893f-c593bcb18e03', 'field2')]"
      ]
     },
     "execution_count": 28,
     "metadata": {},
     "output_type": "execute_result"
    }
   ],
   "source": [
    "er.objects.data"
   ]
  },
  {
   "cell_type": "code",
   "execution_count": 18,
   "id": "artistic-extraction",
   "metadata": {},
   "outputs": [
    {
     "data": {
      "text/plain": [
       "(<hdmf.common.resources.Key at 0x7f95869f1c50>,\n",
       " <hdmf.common.resources.Resource at 0x7f95869f1cd0>,\n",
       " <hdmf.common.resources.Entity at 0x7f95869f1a90>)"
      ]
     },
     "execution_count": 18,
     "metadata": {},
     "output_type": "execute_result"
    }
   ],
   "source": [
    "er.add_ref(\n",
    "            'uuid1', 'field1', 'key1', resource_name='resource1',\n",
    "            resource_uri='resource_uri1', entity_id=\"id11\", entity_uri='url11')\n",
    "er.add_ref(\n",
    "            'uuid2', 'field2', 'key1', resource_name='resource2',\n",
    "            resource_uri='resource_uri2', entity_id=\"id12\", entity_uri='url21')\n",
    "\n",
    "er.add_ref(\n",
    "            container='uuid1', field='field1', key=er.get_key('key1','uuid1', 'field1'),\n",
    "            resource_name='resource1', resource_uri='resource_uri1', entity_id=\"id11\", entity_uri='url11')\n",
    "er.add_ref(\n",
    "            container='uuid2', field='field2', key=er.get_key('key1','uuid2', 'field2'),\n",
    "            resource_name='resource2', resource_uri='resource_uri2', entity_id=\"id12\", entity_uri='url21')"
   ]
  },
  {
   "cell_type": "code",
   "execution_count": 22,
   "id": "medieval-creek",
   "metadata": {},
   "outputs": [
    {
     "data": {
      "text/plain": [
       "1"
      ]
     },
     "execution_count": 22,
     "metadata": {},
     "output_type": "execute_result"
    }
   ],
   "source": [
    "er.get_key('key1','uuid2', 'field2').idx"
   ]
  },
  {
   "cell_type": "code",
   "execution_count": 19,
   "id": "horizontal-apache",
   "metadata": {},
   "outputs": [
    {
     "data": {
      "text/html": [
       "<div>\n",
       "<style scoped>\n",
       "    .dataframe tbody tr th:only-of-type {\n",
       "        vertical-align: middle;\n",
       "    }\n",
       "\n",
       "    .dataframe tbody tr th {\n",
       "        vertical-align: top;\n",
       "    }\n",
       "\n",
       "    .dataframe thead th {\n",
       "        text-align: right;\n",
       "    }\n",
       "</style>\n",
       "<table border=\"1\" class=\"dataframe\">\n",
       "  <thead>\n",
       "    <tr style=\"text-align: right;\">\n",
       "      <th></th>\n",
       "      <th>key</th>\n",
       "    </tr>\n",
       "  </thead>\n",
       "  <tbody>\n",
       "    <tr>\n",
       "      <th>0</th>\n",
       "      <td>key1</td>\n",
       "    </tr>\n",
       "    <tr>\n",
       "      <th>1</th>\n",
       "      <td>key1</td>\n",
       "    </tr>\n",
       "  </tbody>\n",
       "</table>\n",
       "</div>"
      ],
      "text/plain": [
       "    key\n",
       "0  key1\n",
       "1  key1"
      ]
     },
     "execution_count": 19,
     "metadata": {},
     "output_type": "execute_result"
    }
   ],
   "source": [
    "er.keys.to_dataframe()"
   ]
  },
  {
   "cell_type": "code",
   "execution_count": 4,
   "id": "controversial-diary",
   "metadata": {},
   "outputs": [
    {
     "ename": "NameError",
     "evalue": "name 'Key' is not defined",
     "output_type": "error",
     "traceback": [
      "\u001b[0;31m----------------------------------------\u001b[0m",
      "\u001b[0;31mNameError\u001b[0mTraceback (most recent call last)",
      "\u001b[0;32m<ipython-input-4-e131d982a8eb>\u001b[0m in \u001b[0;36m<module>\u001b[0;34m\u001b[0m\n\u001b[0;32m----> 1\u001b[0;31m \u001b[0misinstance\u001b[0m\u001b[0;34m(\u001b[0m\u001b[0mer\u001b[0m\u001b[0;34m.\u001b[0m\u001b[0mget_key\u001b[0m\u001b[0;34m(\u001b[0m\u001b[0mkey_name\u001b[0m\u001b[0;34m=\u001b[0m\u001b[0;34m'key1'\u001b[0m\u001b[0;34m)\u001b[0m\u001b[0;34m,\u001b[0m \u001b[0mKey\u001b[0m\u001b[0;34m)\u001b[0m\u001b[0;34m\u001b[0m\u001b[0;34m\u001b[0m\u001b[0m\n\u001b[0m",
      "\u001b[0;31mNameError\u001b[0m: name 'Key' is not defined"
     ]
    }
   ],
   "source": [
    "isinstance(er.get_key(key_name='key1'), Key)"
   ]
  },
  {
   "cell_type": "code",
   "execution_count": 2,
   "id": "intensive-technician",
   "metadata": {},
   "outputs": [],
   "source": [
    "data = Data(name=\"species\", data=['Homo sapiens', 'Mus musculus'])\n"
   ]
  },
  {
   "cell_type": "code",
   "execution_count": 3,
   "id": "diverse-bottom",
   "metadata": {},
   "outputs": [
    {
     "data": {
      "text/plain": [
       "(<hdmf.common.resources.Key at 0x7ff8e144bcd0>,\n",
       " <hdmf.common.resources.Resource at 0x7ff8e20f6dd0>,\n",
       " <hdmf.common.resources.Entity at 0x7ff8e20f6e50>)"
      ]
     },
     "execution_count": 3,
     "metadata": {},
     "output_type": "execute_result"
    }
   ],
   "source": [
    "er.add_ref(container=data, field='', key='Homo sapiens', resource_name='NCBI_Taxonomy',\n",
    "           resource_uri='https://www.ncbi.nlm.nih.gov/taxonomy', entity_id='NCBI:txid9606',\n",
    "           entity_uri='https://www.ncbi.nlm.nih.gov/Taxonomy/Browser/wwwtax.cgi?id=9606')\n",
    "\n"
   ]
  },
  {
   "cell_type": "code",
   "execution_count": 9,
   "id": "brave-empire",
   "metadata": {},
   "outputs": [
    {
     "data": {
      "text/html": [
       "<div>\n",
       "<style scoped>\n",
       "    .dataframe tbody tr th:only-of-type {\n",
       "        vertical-align: middle;\n",
       "    }\n",
       "\n",
       "    .dataframe tbody tr th {\n",
       "        vertical-align: top;\n",
       "    }\n",
       "\n",
       "    .dataframe thead th {\n",
       "        text-align: right;\n",
       "    }\n",
       "</style>\n",
       "<table border=\"1\" class=\"dataframe\">\n",
       "  <thead>\n",
       "    <tr style=\"text-align: right;\">\n",
       "      <th></th>\n",
       "      <th>key_name</th>\n",
       "      <th>resources_idx</th>\n",
       "      <th>entity_id</th>\n",
       "      <th>entity_uri</th>\n",
       "    </tr>\n",
       "  </thead>\n",
       "  <tbody>\n",
       "    <tr>\n",
       "      <th>0</th>\n",
       "      <td>Homo sapiens</td>\n",
       "      <td>0</td>\n",
       "      <td>NCBI:txid9606</td>\n",
       "      <td>https://www.ncbi.nlm.nih.gov/Taxonomy/Browser/...</td>\n",
       "    </tr>\n",
       "    <tr>\n",
       "      <th>1</th>\n",
       "      <td>Homo sapiens</td>\n",
       "      <td>0</td>\n",
       "      <td>NCBI:txid9606</td>\n",
       "      <td>https://www.ncbi.nlm.nih.gov/Taxonomy/Browser/...</td>\n",
       "    </tr>\n",
       "    <tr>\n",
       "      <th>2</th>\n",
       "      <td>Mus musculus</td>\n",
       "      <td>0</td>\n",
       "      <td>NCBI:txid10090</td>\n",
       "      <td>https://www.ncbi.nlm.nih.gov/Taxonomy/Browser/...</td>\n",
       "    </tr>\n",
       "  </tbody>\n",
       "</table>\n",
       "</div>"
      ],
      "text/plain": [
       "       key_name  resources_idx       entity_id  \\\n",
       "0  Homo sapiens              0   NCBI:txid9606   \n",
       "1  Homo sapiens              0   NCBI:txid9606   \n",
       "2  Mus musculus              0  NCBI:txid10090   \n",
       "\n",
       "                                          entity_uri  \n",
       "0  https://www.ncbi.nlm.nih.gov/Taxonomy/Browser/...  \n",
       "1  https://www.ncbi.nlm.nih.gov/Taxonomy/Browser/...  \n",
       "2  https://www.ncbi.nlm.nih.gov/Taxonomy/Browser/...  "
      ]
     },
     "execution_count": 9,
     "metadata": {},
     "output_type": "execute_result"
    }
   ],
   "source": [
    "er.get_keys()"
   ]
  },
  {
   "cell_type": "code",
   "execution_count": 6,
   "id": "realistic-passing",
   "metadata": {},
   "outputs": [],
   "source": [
    "data2 = Data(name=\"species2\", data=['Homo sapiens', 'Mus musculus'])\n",
    "data3 = Data(name=\"species3\", data=['Homo sapiens', 'Mus musculus'])\n"
   ]
  },
  {
   "cell_type": "code",
   "execution_count": 7,
   "id": "accompanied-three",
   "metadata": {},
   "outputs": [
    {
     "data": {
      "text/plain": [
       "(<hdmf.common.resources.Key at 0x7f9bfb007a10>,\n",
       " <hdmf.common.resources.Resource at 0x7f9bfb007a90>,\n",
       " <hdmf.common.resources.Entity at 0x7f9bfb007ad0>)"
      ]
     },
     "execution_count": 7,
     "metadata": {},
     "output_type": "execute_result"
    }
   ],
   "source": [
    "er.add_ref(container=data2, field='f', key='Homo sapiens', resource_name='NCBI_Taxonomy',\n",
    "           resource_uri='https://www.ncbi.nlm.nih.gov/taxonomy', entity_id='NCBI:txid9606',\n",
    "           entity_uri='https://www.ncbi.nlm.nih.gov/Taxonomy/Browser/wwwtax.cgi?id=9606')"
   ]
  },
  {
   "cell_type": "code",
   "execution_count": 8,
   "id": "according-gates",
   "metadata": {},
   "outputs": [
    {
     "data": {
      "text/plain": [
       "(<hdmf.common.resources.Key at 0x7f9bfb007510>,\n",
       " <hdmf.common.resources.Resource at 0x7f9bfb007a90>,\n",
       " <hdmf.common.resources.Entity at 0x7f9bfb0071d0>)"
      ]
     },
     "execution_count": 8,
     "metadata": {},
     "output_type": "execute_result"
    }
   ],
   "source": [
    "er.add_ref(container=data, field='', key='Mus musculus', resource_name='NCBI_Taxonomy',\n",
    "           resource_uri='https://www.ncbi.nlm.nih.gov/taxonomy', entity_id='NCBI:txid10090',\n",
    "           entity_uri='https://www.ncbi.nlm.nih.gov/Taxonomy/Browser/wwwtax.cgi?id=10090')"
   ]
  },
  {
   "cell_type": "code",
   "execution_count": 19,
   "id": "backed-visiting",
   "metadata": {},
   "outputs": [
    {
     "data": {
      "text/plain": [
       "True"
      ]
     },
     "execution_count": 19,
     "metadata": {},
     "output_type": "execute_result"
    }
   ],
   "source": [
    "key=er.get_key('Mus musculus',data,'')\n",
    "er.keys.which(key='l')\n",
    "from hdmf.container import Table, Row, Container, AbstractContainer\n",
    "\n",
    "isinstance(data, AbstractContainer)"
   ]
  },
  {
   "cell_type": "code",
   "execution_count": 10,
   "id": "southwest-sharing",
   "metadata": {},
   "outputs": [
    {
     "data": {
      "text/html": [
       "<div>\n",
       "<style scoped>\n",
       "    .dataframe tbody tr th:only-of-type {\n",
       "        vertical-align: middle;\n",
       "    }\n",
       "\n",
       "    .dataframe tbody tr th {\n",
       "        vertical-align: top;\n",
       "    }\n",
       "\n",
       "    .dataframe thead th {\n",
       "        text-align: right;\n",
       "    }\n",
       "</style>\n",
       "<table border=\"1\" class=\"dataframe\">\n",
       "  <thead>\n",
       "    <tr style=\"text-align: right;\">\n",
       "      <th></th>\n",
       "      <th>objects_idx</th>\n",
       "      <th>keys_idx</th>\n",
       "    </tr>\n",
       "  </thead>\n",
       "  <tbody>\n",
       "    <tr>\n",
       "      <th>0</th>\n",
       "      <td>0</td>\n",
       "      <td>0</td>\n",
       "    </tr>\n",
       "    <tr>\n",
       "      <th>1</th>\n",
       "      <td>1</td>\n",
       "      <td>1</td>\n",
       "    </tr>\n",
       "    <tr>\n",
       "      <th>2</th>\n",
       "      <td>0</td>\n",
       "      <td>2</td>\n",
       "    </tr>\n",
       "  </tbody>\n",
       "</table>\n",
       "</div>"
      ],
      "text/plain": [
       "   objects_idx  keys_idx\n",
       "0            0         0\n",
       "1            1         1\n",
       "2            0         2"
      ]
     },
     "execution_count": 10,
     "metadata": {},
     "output_type": "execute_result"
    }
   ],
   "source": [
    "er.object_keys.to_dataframe()"
   ]
  },
  {
   "cell_type": "code",
   "execution_count": 11,
   "id": "blond-compromise",
   "metadata": {},
   "outputs": [
    {
     "data": {
      "text/html": [
       "<div>\n",
       "<style scoped>\n",
       "    .dataframe tbody tr th:only-of-type {\n",
       "        vertical-align: middle;\n",
       "    }\n",
       "\n",
       "    .dataframe tbody tr th {\n",
       "        vertical-align: top;\n",
       "    }\n",
       "\n",
       "    .dataframe thead th {\n",
       "        text-align: right;\n",
       "    }\n",
       "</style>\n",
       "<table border=\"1\" class=\"dataframe\">\n",
       "  <thead>\n",
       "    <tr style=\"text-align: right;\">\n",
       "      <th></th>\n",
       "      <th>object_id</th>\n",
       "      <th>field</th>\n",
       "    </tr>\n",
       "  </thead>\n",
       "  <tbody>\n",
       "    <tr>\n",
       "      <th>0</th>\n",
       "      <td>7a1246e7-5adb-4107-b3ab-19898bb81c40</td>\n",
       "      <td></td>\n",
       "    </tr>\n",
       "    <tr>\n",
       "      <th>1</th>\n",
       "      <td>f27b6b3a-c99b-4404-9a75-8bf6c73857b7</td>\n",
       "      <td>f</td>\n",
       "    </tr>\n",
       "  </tbody>\n",
       "</table>\n",
       "</div>"
      ],
      "text/plain": [
       "                              object_id field\n",
       "0  7a1246e7-5adb-4107-b3ab-19898bb81c40      \n",
       "1  f27b6b3a-c99b-4404-9a75-8bf6c73857b7     f"
      ]
     },
     "execution_count": 11,
     "metadata": {},
     "output_type": "execute_result"
    }
   ],
   "source": [
    "er.objects.to_dataframe()"
   ]
  },
  {
   "cell_type": "code",
   "execution_count": 12,
   "id": "secure-reputation",
   "metadata": {},
   "outputs": [
    {
     "data": {
      "text/html": [
       "<div>\n",
       "<style scoped>\n",
       "    .dataframe tbody tr th:only-of-type {\n",
       "        vertical-align: middle;\n",
       "    }\n",
       "\n",
       "    .dataframe tbody tr th {\n",
       "        vertical-align: top;\n",
       "    }\n",
       "\n",
       "    .dataframe thead th {\n",
       "        text-align: right;\n",
       "    }\n",
       "</style>\n",
       "<table border=\"1\" class=\"dataframe\">\n",
       "  <thead>\n",
       "    <tr style=\"text-align: right;\">\n",
       "      <th></th>\n",
       "      <th>key</th>\n",
       "    </tr>\n",
       "  </thead>\n",
       "  <tbody>\n",
       "    <tr>\n",
       "      <th>0</th>\n",
       "      <td>Homo sapiens</td>\n",
       "    </tr>\n",
       "    <tr>\n",
       "      <th>1</th>\n",
       "      <td>Homo sapiens</td>\n",
       "    </tr>\n",
       "    <tr>\n",
       "      <th>2</th>\n",
       "      <td>Mus musculus</td>\n",
       "    </tr>\n",
       "  </tbody>\n",
       "</table>\n",
       "</div>"
      ],
      "text/plain": [
       "            key\n",
       "0  Homo sapiens\n",
       "1  Homo sapiens\n",
       "2  Mus musculus"
      ]
     },
     "execution_count": 12,
     "metadata": {},
     "output_type": "execute_result"
    }
   ],
   "source": [
    "er.keys.to_dataframe()"
   ]
  },
  {
   "cell_type": "code",
   "execution_count": 15,
   "id": "dramatic-offering",
   "metadata": {},
   "outputs": [
    {
     "data": {
      "text/plain": [
       "[0, 2]"
      ]
     },
     "execution_count": 15,
     "metadata": {},
     "output_type": "execute_result"
    }
   ],
   "source": [
    "er.keys.which(key='Homo sapiens')"
   ]
  },
  {
   "cell_type": "code",
   "execution_count": 27,
   "id": "forward-experience",
   "metadata": {},
   "outputs": [
    {
     "data": {
      "text/plain": [
       "1"
      ]
     },
     "execution_count": 27,
     "metadata": {},
     "output_type": "execute_result"
    }
   ],
   "source": [
    "object_field=er._check_object_field(data2,\"f\")\n",
    "object_field.idx"
   ]
  },
  {
   "cell_type": "code",
   "execution_count": 26,
   "id": "harmful-nevada",
   "metadata": {},
   "outputs": [
    {
     "data": {
      "text/plain": [
       "2"
      ]
     },
     "execution_count": 26,
     "metadata": {},
     "output_type": "execute_result"
    }
   ],
   "source": [
    "er.object_keys['keys_idx', 2]"
   ]
  },
  {
   "cell_type": "code",
   "execution_count": 25,
   "id": "located-conference",
   "metadata": {},
   "outputs": [
    {
     "data": {
      "text/plain": [
       "[2]"
      ]
     },
     "execution_count": 25,
     "metadata": {},
     "output_type": "execute_result"
    }
   ],
   "source": [
    "er.object_keys.which(objects_idx=object_field.idx)"
   ]
  },
  {
   "cell_type": "code",
   "execution_count": null,
   "id": "infrared-ireland",
   "metadata": {},
   "outputs": [],
   "source": [
    "data2 = Data(name=\"species2\", data=['Homo sapiens', 'Mus musculus'])\n",
    "er.add_ref(container=data, field='', key=er.get_key2('Mus musculus',data,''), resource_name='NCBI_Taxonomy',\n",
    "           resource_uri='https://www.ncbi.nlm.nih.gov/taxonomy', entity_id='NCBI:txid10090',\n",
    "           entity_uri='https://www.ncbi.nlm.nih.gov/Taxonomy/Browser/wwwtax.cgi?id=10090')"
   ]
  },
  {
   "cell_type": "code",
   "execution_count": null,
   "id": "touched-blanket",
   "metadata": {},
   "outputs": [],
   "source": [
    "er.get_keys()"
   ]
  },
  {
   "cell_type": "code",
   "execution_count": null,
   "id": "textile-divorce",
   "metadata": {},
   "outputs": [],
   "source": [
    "er.object_keys.which(objects_idx=object_field.idx)"
   ]
  },
  {
   "cell_type": "code",
   "execution_count": null,
   "id": "warming-restoration",
   "metadata": {},
   "outputs": [],
   "source": [
    "er.object_keys[0]"
   ]
  },
  {
   "cell_type": "code",
   "execution_count": null,
   "id": "trained-mongolia",
   "metadata": {},
   "outputs": [],
   "source": [
    "er.keys.which(key='Homo sapiens')"
   ]
  },
  {
   "cell_type": "code",
   "execution_count": null,
   "id": "charged-climate",
   "metadata": {},
   "outputs": [],
   "source": [
    "er.get_key('Homo sapiens',data,'').idx"
   ]
  },
  {
   "cell_type": "code",
   "execution_count": null,
   "id": "incredible-beast",
   "metadata": {},
   "outputs": [],
   "source": [
    "er.object_keys['keys_idx', 1]"
   ]
  },
  {
   "cell_type": "code",
   "execution_count": null,
   "id": "contained-technique",
   "metadata": {},
   "outputs": [],
   "source": [
    "er.keys.row[er.object_keys['keys_idx', object_field.idx]]"
   ]
  },
  {
   "cell_type": "code",
   "execution_count": 12,
   "id": "raised-custody",
   "metadata": {},
   "outputs": [
    {
     "data": {
      "text/html": [
       "<div>\n",
       "<style scoped>\n",
       "    .dataframe tbody tr th:only-of-type {\n",
       "        vertical-align: middle;\n",
       "    }\n",
       "\n",
       "    .dataframe tbody tr th {\n",
       "        vertical-align: top;\n",
       "    }\n",
       "\n",
       "    .dataframe thead th {\n",
       "        text-align: right;\n",
       "    }\n",
       "</style>\n",
       "<table border=\"1\" class=\"dataframe\">\n",
       "  <thead>\n",
       "    <tr style=\"text-align: right;\">\n",
       "      <th></th>\n",
       "      <th>objects_idx</th>\n",
       "      <th>keys_idx</th>\n",
       "    </tr>\n",
       "  </thead>\n",
       "  <tbody>\n",
       "    <tr>\n",
       "      <th>0</th>\n",
       "      <td>0</td>\n",
       "      <td>0</td>\n",
       "    </tr>\n",
       "    <tr>\n",
       "      <th>1</th>\n",
       "      <td>0</td>\n",
       "      <td>1</td>\n",
       "    </tr>\n",
       "  </tbody>\n",
       "</table>\n",
       "</div>"
      ],
      "text/plain": [
       "   objects_idx  keys_idx\n",
       "0            0         0\n",
       "1            0         1"
      ]
     },
     "execution_count": 12,
     "metadata": {},
     "output_type": "execute_result"
    }
   ],
   "source": [
    "er.object_keys.to_dataframe()"
   ]
  },
  {
   "cell_type": "code",
   "execution_count": 13,
   "id": "liberal-marker",
   "metadata": {},
   "outputs": [
    {
     "data": {
      "text/html": [
       "<div>\n",
       "<style scoped>\n",
       "    .dataframe tbody tr th:only-of-type {\n",
       "        vertical-align: middle;\n",
       "    }\n",
       "\n",
       "    .dataframe tbody tr th {\n",
       "        vertical-align: top;\n",
       "    }\n",
       "\n",
       "    .dataframe thead th {\n",
       "        text-align: right;\n",
       "    }\n",
       "</style>\n",
       "<table border=\"1\" class=\"dataframe\">\n",
       "  <thead>\n",
       "    <tr style=\"text-align: right;\">\n",
       "      <th></th>\n",
       "      <th>object_id</th>\n",
       "      <th>field</th>\n",
       "    </tr>\n",
       "  </thead>\n",
       "  <tbody>\n",
       "    <tr>\n",
       "      <th>0</th>\n",
       "      <td>1e7187c7-a79e-44c8-9b75-77d26a229393</td>\n",
       "      <td></td>\n",
       "    </tr>\n",
       "  </tbody>\n",
       "</table>\n",
       "</div>"
      ],
      "text/plain": [
       "                              object_id field\n",
       "0  1e7187c7-a79e-44c8-9b75-77d26a229393      "
      ]
     },
     "execution_count": 13,
     "metadata": {},
     "output_type": "execute_result"
    }
   ],
   "source": [
    "er.objects.to_dataframe()"
   ]
  },
  {
   "cell_type": "code",
   "execution_count": 14,
   "id": "respiratory-startup",
   "metadata": {},
   "outputs": [
    {
     "data": {
      "text/html": [
       "<div>\n",
       "<style scoped>\n",
       "    .dataframe tbody tr th:only-of-type {\n",
       "        vertical-align: middle;\n",
       "    }\n",
       "\n",
       "    .dataframe tbody tr th {\n",
       "        vertical-align: top;\n",
       "    }\n",
       "\n",
       "    .dataframe thead th {\n",
       "        text-align: right;\n",
       "    }\n",
       "</style>\n",
       "<table border=\"1\" class=\"dataframe\">\n",
       "  <thead>\n",
       "    <tr style=\"text-align: right;\">\n",
       "      <th></th>\n",
       "      <th>key</th>\n",
       "    </tr>\n",
       "  </thead>\n",
       "  <tbody>\n",
       "    <tr>\n",
       "      <th>0</th>\n",
       "      <td>Homo sapiens</td>\n",
       "    </tr>\n",
       "    <tr>\n",
       "      <th>1</th>\n",
       "      <td>Mus musculus</td>\n",
       "    </tr>\n",
       "  </tbody>\n",
       "</table>\n",
       "</div>"
      ],
      "text/plain": [
       "            key\n",
       "0  Homo sapiens\n",
       "1  Mus musculus"
      ]
     },
     "execution_count": 14,
     "metadata": {},
     "output_type": "execute_result"
    }
   ],
   "source": [
    "er.keys.to_dataframe()"
   ]
  },
  {
   "cell_type": "code",
   "execution_count": null,
   "id": "ordered-backup",
   "metadata": {},
   "outputs": [],
   "source": [
    "er.get_key(key_name='Mus musculus')"
   ]
  },
  {
   "cell_type": "code",
   "execution_count": null,
   "id": "female-shelter",
   "metadata": {},
   "outputs": [],
   "source": [
    "er.objects.which(object_id='data')"
   ]
  },
  {
   "cell_type": "code",
   "execution_count": null,
   "id": "placed-midwest",
   "metadata": {},
   "outputs": [],
   "source": [
    "er.objects.to_dataframe()"
   ]
  },
  {
   "cell_type": "code",
   "execution_count": null,
   "id": "quiet-elephant",
   "metadata": {},
   "outputs": [],
   "source": [
    "objecttable_idx = er.objects.which(object_id=data.object_id)"
   ]
  },
  {
   "cell_type": "code",
   "execution_count": null,
   "id": "disturbed-administration",
   "metadata": {},
   "outputs": [],
   "source": [
    "field_idx = er.objects.which(field='')\n",
    "objecttable_idx = list(set(objecttable_idx) & set(field_idx))"
   ]
  },
  {
   "cell_type": "code",
   "execution_count": null,
   "id": "radical-remedy",
   "metadata": {},
   "outputs": [],
   "source": [
    "set(field_idx)"
   ]
  },
  {
   "cell_type": "code",
   "execution_count": null,
   "id": "formed-scottish",
   "metadata": {},
   "outputs": [],
   "source": [
    "objecttable_idx"
   ]
  },
  {
   "cell_type": "code",
   "execution_count": null,
   "id": "banned-waterproof",
   "metadata": {},
   "outputs": [],
   "source": [
    "key_name='Mus musculus'\n",
    "container=data2\n",
    "field=''"
   ]
  },
  {
   "cell_type": "code",
   "execution_count": null,
   "id": "ahead-marsh",
   "metadata": {},
   "outputs": [],
   "source": [
    "key_id = er.keys.which(key=key_name)\n",
    "if container is not None and field is not None:\n",
    "            # if same key is used multiple times, determine\n",
    "            # which instance based on the Container\n",
    "    object_field = er._check_object_field(container, field)\n",
    "    key_tmp = er.object_keys['keys_idx', object_field.idx]\n",
    "    print(key_tmp,key_id,object_field.idx)\n",
    "    if key_tmp in key_id:\n",
    "        print(er.keys.row[key_tmp],key_tmp,key_id)"
   ]
  },
  {
   "cell_type": "code",
   "execution_count": null,
   "id": "federal-horizon",
   "metadata": {},
   "outputs": [],
   "source": [
    "er.object_keys[object_field.idx]"
   ]
  },
  {
   "cell_type": "code",
   "execution_count": null,
   "id": "interesting-pattern",
   "metadata": {},
   "outputs": [],
   "source": [
    "er.object_keys.to_dataframe()"
   ]
  },
  {
   "cell_type": "code",
   "execution_count": null,
   "id": "challenging-language",
   "metadata": {},
   "outputs": [],
   "source": [
    "er.object_keys['keys_idx', object_field.idx]"
   ]
  },
  {
   "cell_type": "code",
   "execution_count": null,
   "id": "fifty-fleet",
   "metadata": {},
   "outputs": [],
   "source": []
  }
 ],
 "metadata": {
  "kernelspec": {
   "display_name": "Python 3",
   "language": "python",
   "name": "python3"
  },
  "language_info": {
   "codemirror_mode": {
    "name": "ipython",
    "version": 3
   },
   "file_extension": ".py",
   "mimetype": "text/x-python",
   "name": "python",
   "nbconvert_exporter": "python",
   "pygments_lexer": "ipython3",
   "version": "3.7.9"
  }
 },
 "nbformat": 4,
 "nbformat_minor": 5
}
