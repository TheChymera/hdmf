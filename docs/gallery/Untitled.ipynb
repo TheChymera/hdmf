{
 "cells": [
  {
   "cell_type": "code",
   "execution_count": 1,
   "id": "professional-engine",
   "metadata": {},
   "outputs": [
    {
     "name": "stderr",
     "output_type": "stream",
     "text": [
      "/Users/mavaylon/Research/hdmf_testing/hdmf/src/hdmf/container.py:181: UserWarning: ExternalResources is experimental -- it may be removed in the future and is not guaranteed to maintain backward compatibility\n",
      "  warn(_exp_warn_msg(cls))\n"
     ]
    }
   ],
   "source": [
    "# Creating an instance of the ExternalResources class\n",
    "from hdmf.common import ExternalResources\n",
    "from hdmf.common import DynamicTable\n",
    "from hdmf import Data\n",
    "\n",
    "er = ExternalResources(name='example')"
   ]
  },
  {
   "cell_type": "code",
   "execution_count": 2,
   "id": "entertaining-aviation",
   "metadata": {},
   "outputs": [
    {
     "data": {
      "text/plain": [
       "(<hdmf.common.resources.Key at 0x7fb2b9fafe10>,\n",
       " <hdmf.common.resources.Resource at 0x7fb2b9fafe50>,\n",
       " <hdmf.common.resources.Entity at 0x7fb2b9fafd10>)"
      ]
     },
     "execution_count": 2,
     "metadata": {},
     "output_type": "execute_result"
    }
   ],
   "source": [
    "data = Data(name=\"species\", data=['Homo sapiens', 'Mus musculus'])\n",
    "er.add_ref(container=data, field='', key='Homo sapiens', resource_name='NCBI_Taxonomy',\n",
    "           resource_uri='https://www.ncbi.nlm.nih.gov/taxonomy', entity_id='NCBI:txid9606',\n",
    "           entity_uri='https://www.ncbi.nlm.nih.gov/Taxonomy/Browser/wwwtax.cgi?id=9606')\n",
    "\n",
    "er.add_ref(container=data, field='', key='Mus musculus', resource_name='NCBI_Taxonomy',\n",
    "           resource_uri='https://www.ncbi.nlm.nih.gov/taxonomy', entity_id='NCBI:txid10090',\n",
    "           entity_uri='https://www.ncbi.nlm.nih.gov/Taxonomy/Browser/wwwtax.cgi?id=10090')"
   ]
  },
  {
   "cell_type": "code",
   "execution_count": 3,
   "id": "surface-insider",
   "metadata": {},
   "outputs": [
    {
     "data": {
      "text/plain": [
       "(<hdmf.common.resources.Key at 0x7fb2b9faf510>,\n",
       " <hdmf.common.resources.Resource at 0x7fb2b9faf550>,\n",
       " <hdmf.common.resources.Entity at 0x7fb2b9faff10>)"
      ]
     },
     "execution_count": 3,
     "metadata": {},
     "output_type": "execute_result"
    }
   ],
   "source": [
    "genotypes = DynamicTable(name='genotypes', description='My genotypes')\n",
    "genotypes.add_column(name='genotype_name', description=\"Name of genotypes\")\n",
    "genotypes.add_row(id=0, genotype_name='Rorb')\n",
    "er.add_ref(container=genotypes, field='genotype_name', key='Rorb', resource_name='MGI Ontology',\n",
    "           resource_uri='http://www.informatics.jax.org/', entity_id='MGI:1346434',\n",
    "           entity_uri=\"http://www.informatics.jax.org/probe/key/804614\")\n"
   ]
  },
  {
   "cell_type": "code",
   "execution_count": 4,
   "id": "strange-genetics",
   "metadata": {},
   "outputs": [
    {
     "data": {
      "text/html": [
       "<div>\n",
       "<style scoped>\n",
       "    .dataframe tbody tr th:only-of-type {\n",
       "        vertical-align: middle;\n",
       "    }\n",
       "\n",
       "    .dataframe tbody tr th {\n",
       "        vertical-align: top;\n",
       "    }\n",
       "\n",
       "    .dataframe thead th {\n",
       "        text-align: right;\n",
       "    }\n",
       "</style>\n",
       "<table border=\"1\" class=\"dataframe\">\n",
       "  <thead>\n",
       "    <tr style=\"text-align: right;\">\n",
       "      <th></th>\n",
       "      <th>key_name</th>\n",
       "      <th>resources_idx</th>\n",
       "      <th>entity_id</th>\n",
       "      <th>entity_uri</th>\n",
       "    </tr>\n",
       "  </thead>\n",
       "  <tbody>\n",
       "    <tr>\n",
       "      <th>0</th>\n",
       "      <td>Homo sapiens</td>\n",
       "      <td>0</td>\n",
       "      <td>NCBI:txid9606</td>\n",
       "      <td>https://www.ncbi.nlm.nih.gov/Taxonomy/Browser/...</td>\n",
       "    </tr>\n",
       "    <tr>\n",
       "      <th>1</th>\n",
       "      <td>Mus musculus</td>\n",
       "      <td>0</td>\n",
       "      <td>NCBI:txid10090</td>\n",
       "      <td>https://www.ncbi.nlm.nih.gov/Taxonomy/Browser/...</td>\n",
       "    </tr>\n",
       "    <tr>\n",
       "      <th>2</th>\n",
       "      <td>Rorb</td>\n",
       "      <td>1</td>\n",
       "      <td>MGI:1346434</td>\n",
       "      <td>http://www.informatics.jax.org/probe/key/804614</td>\n",
       "    </tr>\n",
       "  </tbody>\n",
       "</table>\n",
       "</div>"
      ],
      "text/plain": [
       "       key_name  resources_idx       entity_id  \\\n",
       "0  Homo sapiens              0   NCBI:txid9606   \n",
       "1  Mus musculus              0  NCBI:txid10090   \n",
       "2          Rorb              1     MGI:1346434   \n",
       "\n",
       "                                          entity_uri  \n",
       "0  https://www.ncbi.nlm.nih.gov/Taxonomy/Browser/...  \n",
       "1  https://www.ncbi.nlm.nih.gov/Taxonomy/Browser/...  \n",
       "2    http://www.informatics.jax.org/probe/key/804614  "
      ]
     },
     "execution_count": 4,
     "metadata": {},
     "output_type": "execute_result"
    }
   ],
   "source": [
    "er.get_keys()\n"
   ]
  },
  {
   "cell_type": "code",
   "execution_count": 5,
   "id": "functioning-surgery",
   "metadata": {},
   "outputs": [],
   "source": [
    "key_object = er.get_key(key_name='Rorb', container=genotypes, field='genotype_name')\n"
   ]
  },
  {
   "cell_type": "code",
   "execution_count": 6,
   "id": "pointed-vaccine",
   "metadata": {},
   "outputs": [
    {
     "data": {
      "text/html": [
       "<div>\n",
       "<style scoped>\n",
       "    .dataframe tbody tr th:only-of-type {\n",
       "        vertical-align: middle;\n",
       "    }\n",
       "\n",
       "    .dataframe tbody tr th {\n",
       "        vertical-align: top;\n",
       "    }\n",
       "\n",
       "    .dataframe thead th {\n",
       "        text-align: right;\n",
       "    }\n",
       "</style>\n",
       "<table border=\"1\" class=\"dataframe\">\n",
       "  <thead>\n",
       "    <tr style=\"text-align: right;\">\n",
       "      <th></th>\n",
       "      <th>key_name</th>\n",
       "      <th>resources_idx</th>\n",
       "      <th>entity_id</th>\n",
       "      <th>entity_uri</th>\n",
       "    </tr>\n",
       "  </thead>\n",
       "  <tbody>\n",
       "    <tr>\n",
       "      <th>0</th>\n",
       "      <td>Homo sapiens</td>\n",
       "      <td>0</td>\n",
       "      <td>NCBI:txid9606</td>\n",
       "      <td>https://www.ncbi.nlm.nih.gov/Taxonomy/Browser/...</td>\n",
       "    </tr>\n",
       "    <tr>\n",
       "      <th>1</th>\n",
       "      <td>Mus musculus</td>\n",
       "      <td>0</td>\n",
       "      <td>NCBI:txid10090</td>\n",
       "      <td>https://www.ncbi.nlm.nih.gov/Taxonomy/Browser/...</td>\n",
       "    </tr>\n",
       "    <tr>\n",
       "      <th>2</th>\n",
       "      <td>Rorb</td>\n",
       "      <td>1</td>\n",
       "      <td>MGI:1346434</td>\n",
       "      <td>http://www.informatics.jax.org/probe/key/804614</td>\n",
       "    </tr>\n",
       "    <tr>\n",
       "      <th>3</th>\n",
       "      <td>Rorb</td>\n",
       "      <td>2</td>\n",
       "      <td>ENSG00000198963</td>\n",
       "      <td>https://uswest.ensembl.org/Homo_sapiens/Gene/S...</td>\n",
       "    </tr>\n",
       "  </tbody>\n",
       "</table>\n",
       "</div>"
      ],
      "text/plain": [
       "       key_name  resources_idx        entity_id  \\\n",
       "0  Homo sapiens              0    NCBI:txid9606   \n",
       "1  Mus musculus              0   NCBI:txid10090   \n",
       "2          Rorb              1      MGI:1346434   \n",
       "3          Rorb              2  ENSG00000198963   \n",
       "\n",
       "                                          entity_uri  \n",
       "0  https://www.ncbi.nlm.nih.gov/Taxonomy/Browser/...  \n",
       "1  https://www.ncbi.nlm.nih.gov/Taxonomy/Browser/...  \n",
       "2    http://www.informatics.jax.org/probe/key/804614  \n",
       "3  https://uswest.ensembl.org/Homo_sapiens/Gene/S...  "
      ]
     },
     "execution_count": 6,
     "metadata": {},
     "output_type": "execute_result"
    }
   ],
   "source": [
    "\n",
    "er.add_ref(container=genotypes, field='genotype_name', key=key_object, resource_name='Ensembl',\n",
    "           resource_uri='https://uswest.ensembl.org/index.html', entity_id='ENSG00000198963',\n",
    "           entity_uri='https://uswest.ensembl.org/Homo_sapiens/Gene/Summary?db=core;g=ENSG00000198963')\n",
    "\n",
    "# Let's use get_keys to visualize\n",
    "er.get_keys()"
   ]
  },
  {
   "cell_type": "code",
   "execution_count": 7,
   "id": "favorite-voluntary",
   "metadata": {},
   "outputs": [
    {
     "name": "stderr",
     "output_type": "stream",
     "text": [
      "/Users/mavaylon/Research/hdmf_testing/hdmf/src/hdmf/container.py:181: UserWarning: ExternalResources is experimental -- it may be removed in the future and is not guaranteed to maintain backward compatibility\n",
      "  warn(_exp_warn_msg(cls))\n"
     ]
    },
    {
     "data": {
      "text/plain": [
       "(<hdmf.common.resources.Key at 0x7fb2b8371ad0>,\n",
       " <hdmf.common.resources.Resource at 0x7fb2ba01a410>,\n",
       " <hdmf.common.resources.Entity at 0x7fb2ba01a310>)"
      ]
     },
     "execution_count": 7,
     "metadata": {},
     "output_type": "execute_result"
    }
   ],
   "source": [
    "er = ExternalResources(name='example')\n",
    "\n",
    "# Create a \n",
    "data = Data(name=\"species\", data=['Homo sapiens', 'Mus musculus'])\n",
    "er.add_ref(container=data, field='', key='Homo sapiens', resource_name='NCBI_Taxonomy',\n",
    "           resource_uri='https://www.ncbi.nlm.nih.gov/taxonomy', entity_id='NCBI:txid9606',\n",
    "           entity_uri='https://www.ncbi.nlm.nih.gov/Taxonomy/Browser/wwwtax.cgi?id=9606')\n"
   ]
  },
  {
   "cell_type": "code",
   "execution_count": 11,
   "id": "municipal-ratio",
   "metadata": {},
   "outputs": [
    {
     "data": {
      "text/plain": [
       "(<hdmf.common.resources.Key at 0x7fb2b9faf7d0>,\n",
       " <hdmf.common.resources.Resource at 0x7fb2ba01a350>,\n",
       " <hdmf.common.resources.Entity at 0x7fb2b9faf850>)"
      ]
     },
     "execution_count": 11,
     "metadata": {},
     "output_type": "execute_result"
    }
   ],
   "source": [
    "# Using get_resource\n",
    "existing_resource = er.get_resource('NCBI_Taxonomy')\n",
    "er.add_ref(container=data, field='', key='Mus musculus', resources_idx=existing_resource,\n",
    "           entity_id='NCBI:txid10090',\n",
    "           entity_uri='https://www.ncbi.nlm.nih.gov/Taxonomy/Browser/wwwtax.cgi?id=10090')"
   ]
  },
  {
   "cell_type": "code",
   "execution_count": null,
   "id": "exceptional-copying",
   "metadata": {},
   "outputs": [],
   "source": []
  }
 ],
 "metadata": {
  "kernelspec": {
   "display_name": "Python 3",
   "language": "python",
   "name": "python3"
  },
  "language_info": {
   "codemirror_mode": {
    "name": "ipython",
    "version": 3
   },
   "file_extension": ".py",
   "mimetype": "text/x-python",
   "name": "python",
   "nbconvert_exporter": "python",
   "pygments_lexer": "ipython3",
   "version": "3.7.9"
  }
 },
 "nbformat": 4,
 "nbformat_minor": 5
}
