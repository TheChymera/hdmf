{
 "cells": [
  {
   "cell_type": "code",
   "execution_count": 1,
   "id": "selective-dealer",
   "metadata": {},
   "outputs": [
    {
     "name": "stderr",
     "output_type": "stream",
     "text": [
      "/Users/mavaylon/Research/hdmf_testing/hdmf/src/hdmf/container.py:181: UserWarning: ExternalResources is experimental -- it may be removed in the future and is not guaranteed to maintain backward compatibility\n",
      "  warn(_exp_warn_msg(cls))\n"
     ]
    }
   ],
   "source": [
    "from hdmf.common import ExternalResources\n",
    "from hdmf.common import DynamicTable\n",
    "\n",
    "from hdmf import Data\n",
    "import pandas as pd\n",
    "\n",
    "er = ExternalResources(name='example')"
   ]
  },
  {
   "cell_type": "markdown",
   "id": "rocky-trout",
   "metadata": {},
   "source": [
    "# Using the add_ref method"
   ]
  },
  {
   "cell_type": "markdown",
   "id": "incomplete-anthony",
   "metadata": {},
   "source": [
    "add_ref will be one of the ExternalResources class methods that simplifies how to add new data.\n",
    "You can think of add_ref as a wrapper function.\n",
    "\n",
    "The function takes in the keyword arguments and will automatically create\n",
    "new entries into tables that don't have the inputs as existing data.\n",
    "In our example below, all of our Tables were empty before add_ref,\n",
    "so calling the method will create new rows of data in every table\n",
    "mentioned prior.\n",
    "Note: If you want to reference objects then you need to reference the id\n",
    "as a string, but if you want to reference a key then you reference\n",
    "the key object itself."
   ]
  },
  {
   "cell_type": "code",
   "execution_count": 2,
   "id": "offshore-canal",
   "metadata": {},
   "outputs": [
    {
     "data": {
      "text/plain": [
       "(<hdmf.common.resources.Key at 0x7f96f30c5110>,\n",
       " <hdmf.common.resources.Resource at 0x7f96f30c8ed0>,\n",
       " <hdmf.common.resources.Entity at 0x7f96f30c50d0>)"
      ]
     },
     "execution_count": 2,
     "metadata": {},
     "output_type": "execute_result"
    }
   ],
   "source": [
    "data = Data(name=\"species\", data=['Homo sapiens', 'Mus musculus'])\n",
    "er.add_ref(container=data, field='', key='Homo sapiens', resource_name='NCBI_Taxonomy',\n",
    "           resource_uri='https://www.ncbi.nlm.nih.gov/taxonomy', entity_id='NCBI:txid9606',\n",
    "           entity_uri='https://www.ncbi.nlm.nih.gov/Taxonomy/Browser/wwwtax.cgi?id=9606')\n",
    "\n",
    "er.add_ref(container=data, field='', key='Mus musculus', resource_name='NCBI_Taxonomy',\n",
    "           resource_uri='https://www.ncbi.nlm.nih.gov/taxonomy', entity_id='NCBI:txid10090',\n",
    "           entity_uri='https://www.ncbi.nlm.nih.gov/Taxonomy/Browser/wwwtax.cgi?id=10090')"
   ]
  },
  {
   "cell_type": "code",
   "execution_count": 3,
   "id": "overhead-structure",
   "metadata": {},
   "outputs": [
    {
     "data": {
      "text/html": [
       "<div>\n",
       "<style scoped>\n",
       "    .dataframe tbody tr th:only-of-type {\n",
       "        vertical-align: middle;\n",
       "    }\n",
       "\n",
       "    .dataframe tbody tr th {\n",
       "        vertical-align: top;\n",
       "    }\n",
       "\n",
       "    .dataframe thead th {\n",
       "        text-align: right;\n",
       "    }\n",
       "</style>\n",
       "<table border=\"1\" class=\"dataframe\">\n",
       "  <thead>\n",
       "    <tr style=\"text-align: right;\">\n",
       "      <th></th>\n",
       "      <th>resource</th>\n",
       "      <th>resource_uri</th>\n",
       "    </tr>\n",
       "  </thead>\n",
       "  <tbody>\n",
       "    <tr>\n",
       "      <th>0</th>\n",
       "      <td>NCBI_Taxonomy</td>\n",
       "      <td>https://www.ncbi.nlm.nih.gov/taxonomy</td>\n",
       "    </tr>\n",
       "  </tbody>\n",
       "</table>\n",
       "</div>"
      ],
      "text/plain": [
       "        resource                           resource_uri\n",
       "0  NCBI_Taxonomy  https://www.ncbi.nlm.nih.gov/taxonomy"
      ]
     },
     "execution_count": 3,
     "metadata": {},
     "output_type": "execute_result"
    }
   ],
   "source": [
    "er.resources.to_dataframe()"
   ]
  },
  {
   "cell_type": "markdown",
   "id": "declared-rugby",
   "metadata": {},
   "source": [
    "# Using the add_ref method with a field"
   ]
  },
  {
   "cell_type": "markdown",
   "id": "packed-transportation",
   "metadata": {},
   "source": [
    "In the above example, field was empty because the data of the Data object was\n",
    "being associated with a resource. The Data object may also have attributes\n",
    "that you would like to associate with resources.\n",
    "\n",
    "To disambiguate between these different fields, you can set the 'field' keyword\n",
    "argument corresponding to the name of the dataset or attribute containing the\n",
    "values being associated with a resource. For example:"
   ]
  },
  {
   "cell_type": "code",
   "execution_count": 4,
   "id": "sought-sheet",
   "metadata": {},
   "outputs": [
    {
     "data": {
      "text/plain": [
       "(<hdmf.common.resources.Key at 0x7f96f310c490>,\n",
       " <hdmf.common.resources.Resource at 0x7f96f2f7f710>,\n",
       " <hdmf.common.resources.Entity at 0x7f96f310c5d0>)"
      ]
     },
     "execution_count": 4,
     "metadata": {},
     "output_type": "execute_result"
    }
   ],
   "source": [
    "genotypes = DynamicTable(name='genotypes', description='My genotypes')\n",
    "genotypes.add_column(name='genotype_name', description=\"Name of genotypes\")\n",
    "genotypes.add_row(id=0, genotype_name='Rorb')\n",
    "er.add_ref(container=genotypes, field='genotype_name', key='Mus musculus', resource_name='MGI Ontology',\n",
    "           resource_uri='http://www.informatics.jax.org/', entity_id='MGI:1346434',\n",
    "           entity_uri=\"http://www.informatics.jax.org/probe/key/804614\")"
   ]
  },
  {
   "cell_type": "markdown",
   "id": "agricultural-english",
   "metadata": {},
   "source": [
    "# Using the get_keys method"
   ]
  },
  {
   "cell_type": "code",
   "execution_count": 5,
   "id": "incoming-error",
   "metadata": {},
   "outputs": [
    {
     "data": {
      "text/html": [
       "<div>\n",
       "<style scoped>\n",
       "    .dataframe tbody tr th:only-of-type {\n",
       "        vertical-align: middle;\n",
       "    }\n",
       "\n",
       "    .dataframe tbody tr th {\n",
       "        vertical-align: top;\n",
       "    }\n",
       "\n",
       "    .dataframe thead th {\n",
       "        text-align: right;\n",
       "    }\n",
       "</style>\n",
       "<table border=\"1\" class=\"dataframe\">\n",
       "  <thead>\n",
       "    <tr style=\"text-align: right;\">\n",
       "      <th></th>\n",
       "      <th>key_name</th>\n",
       "      <th>resources_idx</th>\n",
       "      <th>entity_id</th>\n",
       "      <th>entity_uri</th>\n",
       "    </tr>\n",
       "  </thead>\n",
       "  <tbody>\n",
       "    <tr>\n",
       "      <th>0</th>\n",
       "      <td>Homo sapiens</td>\n",
       "      <td>0</td>\n",
       "      <td>NCBI:txid9606</td>\n",
       "      <td>https://www.ncbi.nlm.nih.gov/Taxonomy/Browser/...</td>\n",
       "    </tr>\n",
       "    <tr>\n",
       "      <th>1</th>\n",
       "      <td>Mus musculus</td>\n",
       "      <td>0</td>\n",
       "      <td>NCBI:txid10090</td>\n",
       "      <td>https://www.ncbi.nlm.nih.gov/Taxonomy/Browser/...</td>\n",
       "    </tr>\n",
       "    <tr>\n",
       "      <th>2</th>\n",
       "      <td>Mus musculus</td>\n",
       "      <td>1</td>\n",
       "      <td>MGI:1346434</td>\n",
       "      <td>http://www.informatics.jax.org/probe/key/804614</td>\n",
       "    </tr>\n",
       "  </tbody>\n",
       "</table>\n",
       "</div>"
      ],
      "text/plain": [
       "       key_name  resources_idx       entity_id  \\\n",
       "0  Homo sapiens              0   NCBI:txid9606   \n",
       "1  Mus musculus              0  NCBI:txid10090   \n",
       "2  Mus musculus              1     MGI:1346434   \n",
       "\n",
       "                                          entity_uri  \n",
       "0  https://www.ncbi.nlm.nih.gov/Taxonomy/Browser/...  \n",
       "1  https://www.ncbi.nlm.nih.gov/Taxonomy/Browser/...  \n",
       "2    http://www.informatics.jax.org/probe/key/804614  "
      ]
     },
     "execution_count": 5,
     "metadata": {},
     "output_type": "execute_result"
    }
   ],
   "source": [
    "# All Keys\n",
    "er.get_keys()"
   ]
  },
  {
   "cell_type": "code",
   "execution_count": 5,
   "id": "lined-compatibility",
   "metadata": {},
   "outputs": [
    {
     "data": {
      "text/html": [
       "<div>\n",
       "<style scoped>\n",
       "    .dataframe tbody tr th:only-of-type {\n",
       "        vertical-align: middle;\n",
       "    }\n",
       "\n",
       "    .dataframe tbody tr th {\n",
       "        vertical-align: top;\n",
       "    }\n",
       "\n",
       "    .dataframe thead th {\n",
       "        text-align: right;\n",
       "    }\n",
       "</style>\n",
       "<table border=\"1\" class=\"dataframe\">\n",
       "  <thead>\n",
       "    <tr style=\"text-align: right;\">\n",
       "      <th></th>\n",
       "      <th>key_name</th>\n",
       "      <th>resources_idx</th>\n",
       "      <th>entity_id</th>\n",
       "      <th>entity_uri</th>\n",
       "    </tr>\n",
       "  </thead>\n",
       "  <tbody>\n",
       "    <tr>\n",
       "      <th>0</th>\n",
       "      <td>Homo sapiens</td>\n",
       "      <td>0</td>\n",
       "      <td>NCBI:txid9606</td>\n",
       "      <td>https://www.ncbi.nlm.nih.gov/Taxonomy/Browser/...</td>\n",
       "    </tr>\n",
       "  </tbody>\n",
       "</table>\n",
       "</div>"
      ],
      "text/plain": [
       "       key_name  resources_idx      entity_id  \\\n",
       "0  Homo sapiens              0  NCBI:txid9606   \n",
       "\n",
       "                                          entity_uri  \n",
       "0  https://www.ncbi.nlm.nih.gov/Taxonomy/Browser/...  "
      ]
     },
     "execution_count": 5,
     "metadata": {},
     "output_type": "execute_result"
    }
   ],
   "source": [
    "# Single Key\n",
    "er.get_keys(keys=er.get_key('Homo sapiens'))"
   ]
  },
  {
   "cell_type": "markdown",
   "id": "accurate-meeting",
   "metadata": {},
   "source": [
    "# Using the add_key and the get_key methods"
   ]
  },
  {
   "cell_type": "markdown",
   "id": "pleasant-solution",
   "metadata": {},
   "source": [
    "Mentioned in the note aobve, the user needs to reference a key object\n",
    "when referencing a key."
   ]
  },
  {
   "cell_type": "code",
   "execution_count": 3,
   "id": "behind-parks",
   "metadata": {},
   "outputs": [],
   "source": [
    "# Let's start with a new instance of ExternalResources\n",
    "er = ExternalResources(name='new_example')\n",
    "\n",
    "# The add_key method will create a new key\n",
    "er.add_key(key_name='Homo sapiens')\n",
    "er.add_key(key_name='Mus musculus')\n",
    "\n",
    "# The get_key method will return the key object of the key_name.\n",
    "key_object = er.get_key(key_name='Mus musculus')"
   ]
  },
  {
   "cell_type": "code",
   "execution_count": 7,
   "id": "usual-antenna",
   "metadata": {},
   "outputs": [
    {
     "data": {
      "text/plain": [
       "<hdmf.common.resources.Entity at 0x7fc32b222390>"
      ]
     },
     "execution_count": 7,
     "metadata": {},
     "output_type": "execute_result"
    }
   ],
   "source": [
    "# We can use the key_object to reference keys.\n",
    "er.add_ref(container=data, field='', key=key_object, resource_name='NCBI_Taxonomy',\n",
    "           resource_uri='https://www.ncbi.nlm.nih.gov/taxonomy', entity_id='NCBI:txid10090',\n",
    "           entity_uri='https://www.ncbi.nlm.nih.gov/Taxonomy/Browser/wwwtax.cgi?id=10090')"
   ]
  },
  {
   "cell_type": "markdown",
   "id": "referenced-analyst",
   "metadata": {},
   "source": [
    "It is also useful to associate an existing key with an additional entity.\n",
    "For example, we can reference the Mus musculus key for a different entity from\n",
    "a new resource."
   ]
  },
  {
   "cell_type": "code",
   "execution_count": 8,
   "id": "legislative-istanbul",
   "metadata": {},
   "outputs": [
    {
     "data": {
      "text/html": [
       "<div>\n",
       "<style scoped>\n",
       "    .dataframe tbody tr th:only-of-type {\n",
       "        vertical-align: middle;\n",
       "    }\n",
       "\n",
       "    .dataframe tbody tr th {\n",
       "        vertical-align: top;\n",
       "    }\n",
       "\n",
       "    .dataframe thead th {\n",
       "        text-align: right;\n",
       "    }\n",
       "</style>\n",
       "<table border=\"1\" class=\"dataframe\">\n",
       "  <thead>\n",
       "    <tr style=\"text-align: right;\">\n",
       "      <th></th>\n",
       "      <th>key_name</th>\n",
       "      <th>resources_idx</th>\n",
       "      <th>entity_id</th>\n",
       "      <th>entity_uri</th>\n",
       "    </tr>\n",
       "  </thead>\n",
       "  <tbody>\n",
       "    <tr>\n",
       "      <th>0</th>\n",
       "      <td>Mus musculus</td>\n",
       "      <td>0</td>\n",
       "      <td>NCBI:txid10090</td>\n",
       "      <td>https://www.ncbi.nlm.nih.gov/Taxonomy/Browser/...</td>\n",
       "    </tr>\n",
       "    <tr>\n",
       "      <th>1</th>\n",
       "      <td>Mus musculus</td>\n",
       "      <td>1</td>\n",
       "      <td>180366</td>\n",
       "      <td>https://www.itis.gov/servlet/SingleRpt/SingleR...</td>\n",
       "    </tr>\n",
       "  </tbody>\n",
       "</table>\n",
       "</div>"
      ],
      "text/plain": [
       "       key_name  resources_idx       entity_id  \\\n",
       "0  Mus musculus              0  NCBI:txid10090   \n",
       "1  Mus musculus              1          180366   \n",
       "\n",
       "                                          entity_uri  \n",
       "0  https://www.ncbi.nlm.nih.gov/Taxonomy/Browser/...  \n",
       "1  https://www.itis.gov/servlet/SingleRpt/SingleR...  "
      ]
     },
     "execution_count": 8,
     "metadata": {},
     "output_type": "execute_result"
    }
   ],
   "source": [
    "er.add_ref(container=data, field='', key=key_object, resource_name='ITIS',\n",
    "           resource_uri='https://www.itis.gov/', entity_id='180366',\n",
    "           entity_uri='https://www.itis.gov/servlet/SingleRpt/SingleRpt?search_topic=TSN&search_value=180366')\n",
    "\n",
    "er.get_keys()"
   ]
  },
  {
   "cell_type": "code",
   "execution_count": 9,
   "id": "introductory-davis",
   "metadata": {},
   "outputs": [
    {
     "data": {
      "text/html": [
       "<div>\n",
       "<style scoped>\n",
       "    .dataframe tbody tr th:only-of-type {\n",
       "        vertical-align: middle;\n",
       "    }\n",
       "\n",
       "    .dataframe tbody tr th {\n",
       "        vertical-align: top;\n",
       "    }\n",
       "\n",
       "    .dataframe thead th {\n",
       "        text-align: right;\n",
       "    }\n",
       "</style>\n",
       "<table border=\"1\" class=\"dataframe\">\n",
       "  <thead>\n",
       "    <tr style=\"text-align: right;\">\n",
       "      <th></th>\n",
       "      <th>key</th>\n",
       "    </tr>\n",
       "  </thead>\n",
       "  <tbody>\n",
       "    <tr>\n",
       "      <th>0</th>\n",
       "      <td>Homo sapiens</td>\n",
       "    </tr>\n",
       "    <tr>\n",
       "      <th>1</th>\n",
       "      <td>Mus musculus</td>\n",
       "    </tr>\n",
       "  </tbody>\n",
       "</table>\n",
       "</div>"
      ],
      "text/plain": [
       "            key\n",
       "0  Homo sapiens\n",
       "1  Mus musculus"
      ]
     },
     "execution_count": 9,
     "metadata": {},
     "output_type": "execute_result"
    }
   ],
   "source": [
    "# This will return a pandas dataframe of the KeyTable\n",
    "er.keys.to_dataframe()"
   ]
  },
  {
   "cell_type": "markdown",
   "id": "scenic-prisoner",
   "metadata": {},
   "source": [
    "# Using the add_keys method"
   ]
  },
  {
   "cell_type": "markdown",
   "id": "geological-passage",
   "metadata": {},
   "source": [
    "This is another wrapper function, but allows the use of a pandas DataFrame\n",
    "to add/reference keys, resources, and entities."
   ]
  },
  {
   "cell_type": "code",
   "execution_count": 11,
   "id": "adult-compiler",
   "metadata": {},
   "outputs": [
    {
     "data": {
      "text/plain": [
       "{'Homo sapiens': <hdmf.common.resources.Key at 0x7fe68a920c90>}"
      ]
     },
     "execution_count": 11,
     "metadata": {},
     "output_type": "execute_result"
    }
   ],
   "source": [
    "new_data = {\n",
    "    'key_name': 'Homo sapiens',\n",
    "    'resources_idx': 0,\n",
    "    'entity_id': 'NCBI:txid9606',\n",
    "    'entity_uri': 'https://www.ncbi.nlm.nih.gov/Taxonomy/Browser/wwwtax.cgi?id=9606'}\n",
    "\n",
    "df = pd.DataFrame(new_data, index=[0])\n",
    "\n",
    "er.add_keys(df)"
   ]
  },
  {
   "cell_type": "markdown",
   "id": "authentic-values",
   "metadata": {},
   "source": [
    "# Using the add_resource method"
   ]
  },
  {
   "cell_type": "code",
   "execution_count": 12,
   "id": "compact-anthropology",
   "metadata": {},
   "outputs": [
    {
     "name": "stderr",
     "output_type": "stream",
     "text": [
      "/Users/mavaylon/Research/hdmf_testing/hdmf/src/hdmf/container.py:181: UserWarning: ExternalResources is experimental -- it may be removed in the future and is not guaranteed to maintain backward compatibility\n",
      "  warn(_exp_warn_msg(cls))\n"
     ]
    },
    {
     "data": {
      "text/html": [
       "<div>\n",
       "<style scoped>\n",
       "    .dataframe tbody tr th:only-of-type {\n",
       "        vertical-align: middle;\n",
       "    }\n",
       "\n",
       "    .dataframe tbody tr th {\n",
       "        vertical-align: top;\n",
       "    }\n",
       "\n",
       "    .dataframe thead th {\n",
       "        text-align: right;\n",
       "    }\n",
       "</style>\n",
       "<table border=\"1\" class=\"dataframe\">\n",
       "  <thead>\n",
       "    <tr style=\"text-align: right;\">\n",
       "      <th></th>\n",
       "      <th>resource</th>\n",
       "      <th>resource_uri</th>\n",
       "    </tr>\n",
       "  </thead>\n",
       "  <tbody>\n",
       "    <tr>\n",
       "      <th>0</th>\n",
       "      <td>NCBI_Taxonomy</td>\n",
       "      <td>https://www.ncbi.nlm.nih.gov/taxonomy</td>\n",
       "    </tr>\n",
       "  </tbody>\n",
       "</table>\n",
       "</div>"
      ],
      "text/plain": [
       "        resource                           resource_uri\n",
       "0  NCBI_Taxonomy  https://www.ncbi.nlm.nih.gov/taxonomy"
      ]
     },
     "execution_count": 12,
     "metadata": {},
     "output_type": "execute_result"
    }
   ],
   "source": [
    "er = ExternalResources(name='new_example')\n",
    "\n",
    "\n",
    "er.add_resource(resource='NCBI_Taxonomy', uri='https://www.ncbi.nlm.nih.gov/taxonomy')\n",
    "\n",
    "# This will return a pandas dataframe of the ResourceTable\n",
    "er.resources.to_dataframe()"
   ]
  },
  {
   "cell_type": "markdown",
   "id": "established-model",
   "metadata": {},
   "source": [
    "# Using the add_entity method"
   ]
  },
  {
   "cell_type": "code",
   "execution_count": 13,
   "id": "arbitrary-blast",
   "metadata": {},
   "outputs": [
    {
     "data": {
      "text/html": [
       "<div>\n",
       "<style scoped>\n",
       "    .dataframe tbody tr th:only-of-type {\n",
       "        vertical-align: middle;\n",
       "    }\n",
       "\n",
       "    .dataframe tbody tr th {\n",
       "        vertical-align: top;\n",
       "    }\n",
       "\n",
       "    .dataframe thead th {\n",
       "        text-align: right;\n",
       "    }\n",
       "</style>\n",
       "<table border=\"1\" class=\"dataframe\">\n",
       "  <thead>\n",
       "    <tr style=\"text-align: right;\">\n",
       "      <th></th>\n",
       "      <th>keys_idx</th>\n",
       "      <th>resources_idx</th>\n",
       "      <th>entity_id</th>\n",
       "      <th>entity_uri</th>\n",
       "    </tr>\n",
       "  </thead>\n",
       "  <tbody>\n",
       "    <tr>\n",
       "      <th>0</th>\n",
       "      <td>0</td>\n",
       "      <td>0</td>\n",
       "      <td>NCBI:txid9606</td>\n",
       "      <td>https://www.ncbi.nlm.nih.gov/Taxonomy/Browser/...</td>\n",
       "    </tr>\n",
       "    <tr>\n",
       "      <th>1</th>\n",
       "      <td>1</td>\n",
       "      <td>0</td>\n",
       "      <td>NCBI:txid10090</td>\n",
       "      <td>https://www.ncbi.nlm.nih.gov/Taxonomy/Browser/...</td>\n",
       "    </tr>\n",
       "  </tbody>\n",
       "</table>\n",
       "</div>"
      ],
      "text/plain": [
       "   keys_idx  resources_idx       entity_id  \\\n",
       "0         0              0   NCBI:txid9606   \n",
       "1         1              0  NCBI:txid10090   \n",
       "\n",
       "                                          entity_uri  \n",
       "0  https://www.ncbi.nlm.nih.gov/Taxonomy/Browser/...  \n",
       "1  https://www.ncbi.nlm.nih.gov/Taxonomy/Browser/...  "
      ]
     },
     "execution_count": 13,
     "metadata": {},
     "output_type": "execute_result"
    }
   ],
   "source": [
    "er.add_entity(key='Homo sapiens', resources_idx=0,\n",
    "              entity_id='NCBI:txid9606',\n",
    "              entity_uri='https://www.ncbi.nlm.nih.gov/Taxonomy/Browser/wwwtax.cgi?id=9606')\n",
    "\n",
    "er.add_entity(key='Mus musculus', resources_idx=0,\n",
    "              entity_id='NCBI:txid10090',\n",
    "              entity_uri='https://www.ncbi.nlm.nih.gov/Taxonomy/Browser/wwwtax.cgi?id=10090')\n",
    "\n",
    "# This will return a pandas dataframe of the EntityTable\n",
    "er.entities.to_dataframe()"
   ]
  },
  {
   "cell_type": "markdown",
   "id": "monthly-prison",
   "metadata": {},
   "source": [
    "##### (Mention get_resource)"
   ]
  },
  {
   "cell_type": "markdown",
   "id": "alpine-boutique",
   "metadata": {},
   "source": [
    "# Using the add_object method"
   ]
  },
  {
   "cell_type": "code",
   "execution_count": 14,
   "id": "promising-conspiracy",
   "metadata": {},
   "outputs": [
    {
     "data": {
      "text/html": [
       "<div>\n",
       "<style scoped>\n",
       "    .dataframe tbody tr th:only-of-type {\n",
       "        vertical-align: middle;\n",
       "    }\n",
       "\n",
       "    .dataframe tbody tr th {\n",
       "        vertical-align: top;\n",
       "    }\n",
       "\n",
       "    .dataframe thead th {\n",
       "        text-align: right;\n",
       "    }\n",
       "</style>\n",
       "<table border=\"1\" class=\"dataframe\">\n",
       "  <thead>\n",
       "    <tr style=\"text-align: right;\">\n",
       "      <th></th>\n",
       "      <th>object_id</th>\n",
       "      <th>field</th>\n",
       "    </tr>\n",
       "  </thead>\n",
       "  <tbody>\n",
       "    <tr>\n",
       "      <th>0</th>\n",
       "      <td>6db26450-cef1-49b9-8dc7-4997ec3db02b</td>\n",
       "      <td>Data</td>\n",
       "    </tr>\n",
       "  </tbody>\n",
       "</table>\n",
       "</div>"
      ],
      "text/plain": [
       "                              object_id field\n",
       "0  6db26450-cef1-49b9-8dc7-4997ec3db02b  Data"
      ]
     },
     "execution_count": 14,
     "metadata": {},
     "output_type": "execute_result"
    }
   ],
   "source": [
    "er.add_object(container=data, field='Data')\n",
    "\n",
    "# This will return a pandas dataframe of the ObjectTable\n",
    "er.objects.to_dataframe()"
   ]
  },
  {
   "cell_type": "markdown",
   "id": "alien-denmark",
   "metadata": {},
   "source": [
    "# Using the add_external_reference method"
   ]
  },
  {
   "cell_type": "code",
   "execution_count": 16,
   "id": "rubber-easter",
   "metadata": {},
   "outputs": [],
   "source": [
    "# Let's create a new Data instance\n",
    "\n",
    "data_mouse = Data(name=\"species\", data='Mus musculus')"
   ]
  },
  {
   "cell_type": "code",
   "execution_count": 17,
   "id": "banned-phrase",
   "metadata": {},
   "outputs": [],
   "source": [
    "# This method below returns an Object object, but will also create one if it doesn't exist.\n",
    "object_ = er._check_object_field(data_mouse, field='')"
   ]
  },
  {
   "cell_type": "code",
   "execution_count": 18,
   "id": "involved-orbit",
   "metadata": {},
   "outputs": [
    {
     "data": {
      "text/html": [
       "<div>\n",
       "<style scoped>\n",
       "    .dataframe tbody tr th:only-of-type {\n",
       "        vertical-align: middle;\n",
       "    }\n",
       "\n",
       "    .dataframe tbody tr th {\n",
       "        vertical-align: top;\n",
       "    }\n",
       "\n",
       "    .dataframe thead th {\n",
       "        text-align: right;\n",
       "    }\n",
       "</style>\n",
       "<table border=\"1\" class=\"dataframe\">\n",
       "  <thead>\n",
       "    <tr style=\"text-align: right;\">\n",
       "      <th></th>\n",
       "      <th>objects_idx</th>\n",
       "      <th>keys_idx</th>\n",
       "    </tr>\n",
       "  </thead>\n",
       "  <tbody>\n",
       "    <tr>\n",
       "      <th>0</th>\n",
       "      <td>1</td>\n",
       "      <td>1</td>\n",
       "    </tr>\n",
       "  </tbody>\n",
       "</table>\n",
       "</div>"
      ],
      "text/plain": [
       "   objects_idx  keys_idx\n",
       "0            1         1"
      ]
     },
     "execution_count": 18,
     "metadata": {},
     "output_type": "execute_result"
    }
   ],
   "source": [
    "key_object = er.get_key(key_name='Mus musculus')\n",
    "\n",
    "er.add_external_reference(object_, key_object)\n",
    "\n",
    "# This return ObjectKeyTable\n",
    "er.object_keys.to_dataframe()"
   ]
  }
 ],
 "metadata": {
  "kernelspec": {
   "display_name": "Python 3",
   "language": "python",
   "name": "python3"
  },
  "language_info": {
   "codemirror_mode": {
    "name": "ipython",
    "version": 3
   },
   "file_extension": ".py",
   "mimetype": "text/x-python",
   "name": "python",
   "nbconvert_exporter": "python",
   "pygments_lexer": "ipython3",
   "version": "3.7.9"
  }
 },
 "nbformat": 4,
 "nbformat_minor": 5
}
